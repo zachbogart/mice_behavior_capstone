{
 "cells": [
  {
   "cell_type": "markdown",
   "metadata": {},
   "source": [
    "1  \n",
    "I think we need to change one line of the function arm_entry:  \n",
    "\"if results_array[frame, zone] <= results_array[frame, 5] and np.argmax(results_array[frame + 1]) == zone:\"  \n",
    "into  \n",
    "\"if results_array[frame, zone] < results_array[frame, 5] and np.argmax(results_array[frame + 1]) == zone:\"  \n",
    "where \"<=\" is changed into \"<\", so that we consider the mouse being in the zone only when \"results_array[frame + 1]\" becomes the strictly largest part of the frame."
   ]
  },
  {
   "cell_type": "markdown",
   "metadata": {},
   "source": [
    "2  \n",
    "Region to Region Frequency  "
   ]
  },
  {
   "cell_type": "code",
   "execution_count": null,
   "metadata": {
    "collapsed": true
   },
   "outputs": [],
   "source": [
    "from collections import defaultdict\n",
    "\n",
    "# get the freq of a mouse move from one region to another.\n",
    "def RegionToRegionFreq(arm_entries):\n",
    "    freq = defaultdict(int)\n",
    "    entries = sorted([entry for zones in arm_entries for entry in zones])\n",
    "    arm_entries_tuple = [(entry, zone) for zone, subentries in enumerate(arm_entries) for entry in subentries]\n",
    "    entries_dict = dict(arm_entries_tuple)\n",
    "    #for key in sorted(entries_dict):\n",
    "    #    print (key, entries_dict[key])\n",
    "\n",
    "    arms = [4, 6, 7, 8]\n",
    "    for i in range(len(arms)-1):\n",
    "        for j in range(i+1, len(arms)):\n",
    "            for k in range(len(entries)-1):\n",
    "                if entries_dict[entries[k]]==arms[i] and entries_dict[entries[k+1]]==arms[j]:\n",
    "                    freq[(arms[i], arms[j])] += 1\n",
    "            \n",
    "    return dict(freq)"
   ]
  }
 ],
 "metadata": {
  "kernelspec": {
   "display_name": "Python 2",
   "language": "python",
   "name": "python2"
  },
  "language_info": {
   "codemirror_mode": {
    "name": "ipython",
    "version": 2
   },
   "file_extension": ".py",
   "mimetype": "text/x-python",
   "name": "python",
   "nbconvert_exporter": "python",
   "pygments_lexer": "ipython2",
   "version": "2.7.14"
  }
 },
 "nbformat": 4,
 "nbformat_minor": 2
}
