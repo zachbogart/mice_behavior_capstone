{
 "cells": [
  {
   "cell_type": "markdown",
   "metadata": {},
   "source": [
    "Only need to add the function PeekingTimes"
   ]
  },
  {
   "cell_type": "code",
   "execution_count": 1,
   "metadata": {},
   "outputs": [],
   "source": [
    "import numpy as np\n",
    "\n",
    "results_array = np.load('results_array.npy')\n",
    "\n",
    "zones_order = ['F1', 'F2', 'F3', 'F4', 'CL', 'M', 'OB', 'CR', 'OT']\n",
    "\n",
    "def arm_entry(results_array, zones_order):\n",
    "    # Arm entries version from 20130829 10:10 am. Doesn't capture extra events anymore. Seems accurate now.\n",
    "    # each list of arm entries contains when a mouse entered the arm\n",
    "    arm_entries = [[], [], [], [], [], [], [], [], []] # the number of lists = the number of zones\n",
    "    for frame in range(len(results_array) - 1): # len(results_array)=9000\n",
    "        # Compare each arm, one by one to the middle\n",
    "        for zone in [4, 6, 7, 8]:  # 4,6,7,8 are the arms\n",
    "            if results_array[\n",
    "                frame, 5] > 0:  # 5 is the middle area. Arm antries can only occur if a mouse was present in the middle.\n",
    "                if results_array[frame, zone] < results_array[frame, 5] and np.argmax(\n",
    "                        results_array[frame + 1]) == zone:\n",
    "                    arm_entries[zone].append(frame + 1)\n",
    "    tot_arm_entries = dict(zip(zones_order, [len(arm) for arm in arm_entries])) # how many times the mouse entered each arm\n",
    "    return arm_entries, tot_arm_entries\n",
    "\n",
    "arm_entries, tot_arm_entries = arm_entry(results_array, zones_order)"
   ]
  },
  {
   "cell_type": "code",
   "execution_count": 2,
   "metadata": {
    "collapsed": true
   },
   "outputs": [],
   "source": [
    "# if a mouse leaves an arm then goes back without entering any other arm in a threshold of frames(e.g., threshold = 150(5 seconds))\n",
    "# then count it as one time of peeking\n",
    "def PeekingTimes(arm_entries, threshold):\n",
    "    times = dict()\n",
    "    arms = [4, 6, 7, 8]\n",
    "    for arm in arms:\n",
    "        times[arm] = 0\n",
    "    \n",
    "    entries = sorted([entry for zones in arm_entries for entry in zones])\n",
    "    arm_entries_tuple = [(entry, zone) for zone, subentries in enumerate(arm_entries) for entry in subentries]\n",
    "    entries_dict = dict(arm_entries_tuple)\n",
    "    \n",
    "    for k in range(len(entries)-1):\n",
    "        if entries[k+1]-entries[k]<threshold and entries_dict[entries[k]]==entries_dict[entries[k+1]]:\n",
    "            times[entries_dict[entries[k]]] += 1\n",
    "            \n",
    "    return times"
   ]
  },
  {
   "cell_type": "code",
   "execution_count": 3,
   "metadata": {},
   "outputs": [
    {
     "data": {
      "text/plain": [
       "{4: 1, 6: 0, 7: 2, 8: 0}"
      ]
     },
     "execution_count": 3,
     "metadata": {},
     "output_type": "execute_result"
    }
   ],
   "source": [
    "PeekingTimes(arm_entries, 150)"
   ]
  }
 ],
 "metadata": {
  "kernelspec": {
   "display_name": "Python 2",
   "language": "python",
   "name": "python2"
  },
  "language_info": {
   "codemirror_mode": {
    "name": "ipython",
    "version": 2
   },
   "file_extension": ".py",
   "mimetype": "text/x-python",
   "name": "python",
   "nbconvert_exporter": "python",
   "pygments_lexer": "ipython2",
   "version": "2.7.14"
  }
 },
 "nbformat": 4,
 "nbformat_minor": 2
}
