{
 "cells": [
  {
   "cell_type": "code",
   "execution_count": 289,
   "metadata": {
    "collapsed": true
   },
   "outputs": [],
   "source": [
    "import numpy as np\n",
    "import scipy as sci\n",
    "import pandas as pd\n",
    "import matplotlib.pyplot as plt\n",
    "import seaborn as sns\n",
    "import warnings\n",
    "warnings.filterwarnings(\"ignore\")"
   ]
  },
  {
   "cell_type": "code",
   "execution_count": 188,
   "metadata": {
    "collapsed": true
   },
   "outputs": [],
   "source": [
    "df= pd.read_csv('centroids.csv', names= ['frame', 'x', 'y'])"
   ]
  },
  {
   "cell_type": "code",
   "execution_count": 3,
   "metadata": {},
   "outputs": [
    {
     "data": {
      "text/html": [
       "<div>\n",
       "<style scoped>\n",
       "    .dataframe tbody tr th:only-of-type {\n",
       "        vertical-align: middle;\n",
       "    }\n",
       "\n",
       "    .dataframe tbody tr th {\n",
       "        vertical-align: top;\n",
       "    }\n",
       "\n",
       "    .dataframe thead th {\n",
       "        text-align: right;\n",
       "    }\n",
       "</style>\n",
       "<table border=\"1\" class=\"dataframe\">\n",
       "  <thead>\n",
       "    <tr style=\"text-align: right;\">\n",
       "      <th></th>\n",
       "      <th>frame</th>\n",
       "      <th>x</th>\n",
       "      <th>y</th>\n",
       "    </tr>\n",
       "  </thead>\n",
       "  <tbody>\n",
       "    <tr>\n",
       "      <th>0</th>\n",
       "      <td>0</td>\n",
       "      <td>268.851064</td>\n",
       "      <td>179.765957</td>\n",
       "    </tr>\n",
       "    <tr>\n",
       "      <th>1</th>\n",
       "      <td>1</td>\n",
       "      <td>268.851064</td>\n",
       "      <td>179.765957</td>\n",
       "    </tr>\n",
       "    <tr>\n",
       "      <th>2</th>\n",
       "      <td>2</td>\n",
       "      <td>268.851064</td>\n",
       "      <td>179.765957</td>\n",
       "    </tr>\n",
       "    <tr>\n",
       "      <th>3</th>\n",
       "      <td>3</td>\n",
       "      <td>268.851064</td>\n",
       "      <td>179.765957</td>\n",
       "    </tr>\n",
       "    <tr>\n",
       "      <th>4</th>\n",
       "      <td>4</td>\n",
       "      <td>268.851064</td>\n",
       "      <td>179.765957</td>\n",
       "    </tr>\n",
       "  </tbody>\n",
       "</table>\n",
       "</div>"
      ],
      "text/plain": [
       "   frame           x           y\n",
       "0      0  268.851064  179.765957\n",
       "1      1  268.851064  179.765957\n",
       "2      2  268.851064  179.765957\n",
       "3      3  268.851064  179.765957\n",
       "4      4  268.851064  179.765957"
      ]
     },
     "execution_count": 3,
     "metadata": {},
     "output_type": "execute_result"
    }
   ],
   "source": [
    "df.head()"
   ]
  },
  {
   "cell_type": "code",
   "execution_count": 21,
   "metadata": {},
   "outputs": [
    {
     "data": {
      "text/plain": [
       "frame      0.000000\n",
       "x        185.612903\n",
       "y          6.823569\n",
       "dtype: float64"
      ]
     },
     "execution_count": 21,
     "metadata": {},
     "output_type": "execute_result"
    }
   ],
   "source": [
    "df.min()"
   ]
  },
  {
   "cell_type": "code",
   "execution_count": 22,
   "metadata": {},
   "outputs": [
    {
     "data": {
      "text/plain": [
       "frame    8999.000000\n",
       "x         591.568757\n",
       "y         348.800000\n",
       "dtype: float64"
      ]
     },
     "execution_count": 22,
     "metadata": {},
     "output_type": "execute_result"
    }
   ],
   "source": [
    "df.max()"
   ]
  },
  {
   "cell_type": "code",
   "execution_count": 275,
   "metadata": {
    "collapsed": true
   },
   "outputs": [],
   "source": [
    "zones_dict = {'F1': [(105.99464167618511, 7.1765355722491222), (257.98873177198408, 7.1765355722492359), (262.15458840061149, 164.43762330293291), (109.2304463102077, 167.81285903667697)], 'F2': [(283.44167034909412, 7.1765355722492359), (438.8164044435768, 7.1765355722491222), (442.38113124171457, 160.4597878921785), (288.11892470387863, 163.86455645752972)], 'F3': [(288.8517175727705, 188.41311756540691), (442.94675209898367, 184.78148475475029), (446.67252074288427, 344.98953644248104), (293.62284577993813, 348.24591250552362)], 'F4': [(109.7304463102077, 192.63455589924877), (262.805961309206, 189.02695060237627), (267.03866548828989, 348.81153336279272), (112.94246724620933, 352.09017587858216)], 'CL': [(109.2304463102077, 167.81285903667697), (262.15458840061149, 164.43762330293291), (262.805961309206, 189.02695060237627), (109.7304463102077, 192.63455589924877)], 'M': [(262.15458840061149, 164.43762330293291), (288.11892470387863, 163.86455645752972), (288.8517175727705, 188.41311756540691), (262.805961309206, 189.02695060237627)], 'OB': [(262.805961309206, 189.02695060237627), (288.8517175727705, 188.41311756540691), (293.62284577993813, 348.24591250552362), (267.03866548828989, 348.81153336279272)], 'CR': [(288.11892470387863, 163.86455645752972), (442.38113124171457, 160.4597878921785), (442.94675209898367, 184.78148475475029), (288.8517175727705, 188.41311756540691)], 'OT': [(257.98873177198408, 7.1765355722492359), (283.44167034909412, 7.1765355722492359), (288.11892470387863, 163.86455645752972), (262.15458840061149, 164.43762330293291)]}"
   ]
  },
  {
   "cell_type": "code",
   "execution_count": 276,
   "metadata": {},
   "outputs": [
    {
     "data": {
      "text/plain": [
       "[(257.9887317719841, 7.176535572249236),\n",
       " (283.4416703490941, 7.176535572249236),\n",
       " (288.11892470387863, 163.86455645752972),\n",
       " (262.1545884006115, 164.4376233029329)]"
      ]
     },
     "execution_count": 276,
     "metadata": {},
     "output_type": "execute_result"
    }
   ],
   "source": [
    "zones_dict['OT']\n",
    "# format [(x_min, y_min), (x_max, y_max), (x_max, y_max), (x_min, y_min)]"
   ]
  },
  {
   "cell_type": "code",
   "execution_count": 295,
   "metadata": {},
   "outputs": [],
   "source": [
    "# df_new = calc_features(df[['frame', 'x', 'y']], zones_dict)"
   ]
  },
  {
   "cell_type": "code",
   "execution_count": 189,
   "metadata": {},
   "outputs": [],
   "source": [
    "cl_xmin = np.min([zones_dict['CL'][0][0], zones_dict['CL'][3][0]])\n",
    "cl_xmax = np.mean([zones_dict['CL'][1][0], zones_dict['CL'][2][0]])\n",
    "\n",
    "cl_ymin = np.min([zones_dict['CL'][0][1], zones_dict['CL'][1][1]])\n",
    "cl_ymax = np.max([zones_dict['CL'][2][1], zones_dict['CL'][3][1]])\n",
    "\n",
    "cr_xmin = np.mean([zones_dict['CR'][0][0], zones_dict['CR'][3][0]])\n",
    "cr_xmax = np.max([zones_dict['CR'][1][0], zones_dict['CR'][2][0]])\n",
    "\n",
    "cr_ymin = np.min([zones_dict['CR'][0][1], zones_dict['CR'][1][1]]) #same as CL\n",
    "cr_ymax = np.max([zones_dict['CR'][2][1], zones_dict['CR'][3][1]])\n",
    "\n",
    "ob_xmin = np.min([zones_dict['OB'][0][0], zones_dict['OB'][3][0]])\n",
    "ob_xmax = np.max([zones_dict['OB'][1][0], zones_dict['OB'][2][0]])\n",
    "\n",
    "ob_ymin = np.min([zones_dict['OB'][0][1], zones_dict['OB'][1][1]])\n",
    "ob_ymax = np.mean([zones_dict['OB'][2][1], zones_dict['OB'][3][1]])\n",
    "\n",
    "ot_xmin = np.min([zones_dict['OT'][0][0], zones_dict['OT'][3][0]]) #same as OB\n",
    "ot_xmax = np.max([zones_dict['OT'][1][0], zones_dict['OT'][2][0]])\n",
    "\n",
    "ot_ymin = np.mean([zones_dict['OT'][0][1], zones_dict['OT'][1][1]])\n",
    "ot_ymax = np.max([zones_dict['OT'][2][1], zones_dict['OT'][3][1]])\n",
    "\n",
    "m_xmin = cl_xmax\n",
    "m_xmax = cr_xmin\n",
    "m_ymin = ob_ymax\n",
    "m_ymax = ot_ymin\n"
   ]
  },
  {
   "cell_type": "code",
   "execution_count": 280,
   "metadata": {
    "collapsed": true
   },
   "outputs": [],
   "source": [
    "df['zone'] = np.where(((cl_xmin<= df['x']) & (df['x']<=cl_xmax) & (cl_ymin<= df['y']) & (df['y']<=cl_ymax)), 'CL',\n",
    "                      np.where(((cr_xmin<= df['x']) & (df['x']<=cr_xmax) & (cr_ymin<= df['y']) & (df['y']<=cr_ymax)), 'CR', \n",
    "                               np.where(((ob_xmin<= df['x']) & (df['x']<=ob_xmax) & (ob_ymin<= df['y']) & (df['y']<=ob_ymax)), 'OB', \n",
    "                                        np.where(((ot_xmin<= df['x']) & (df['x']<=ot_xmax) & (ot_ymin<= df['y']) & (df['y']<=ot_ymax)), 'OT', \n",
    "                                                 np.where(((m_xmin<= df['x']) & (df['x']<=m_xmax) & (m_ymin<= df['y']) & (df['y']<=m_ymax)), 'M', np.nan))))) \n"
   ]
  },
  {
   "cell_type": "code",
   "execution_count": 71,
   "metadata": {},
   "outputs": [
    {
     "data": {
      "text/plain": [
       "6.823568575233022"
      ]
     },
     "execution_count": 71,
     "metadata": {},
     "output_type": "execute_result"
    }
   ],
   "source": [
    "df['y'].min()"
   ]
  },
  {
   "cell_type": "code",
   "execution_count": 57,
   "metadata": {},
   "outputs": [
    {
     "data": {
      "text/plain": [
       "CL     6853\n",
       "nan    1307\n",
       "CR      606\n",
       "OT      234\n",
       "Name: zone, dtype: int64"
      ]
     },
     "execution_count": 57,
     "metadata": {},
     "output_type": "execute_result"
    }
   ],
   "source": [
    "df['zone'].value_counts()"
   ]
  },
  {
   "cell_type": "code",
   "execution_count": 75,
   "metadata": {},
   "outputs": [
    {
     "data": {
      "text/plain": [
       "(109.2304463102077, 262.48027485490877, 164.4376233029329, 192.63455589924877)"
      ]
     },
     "execution_count": 75,
     "metadata": {},
     "output_type": "execute_result"
    }
   ],
   "source": [
    "cl_xmin, cl_xmax, cl_ymin, cl_ymax"
   ]
  },
  {
   "cell_type": "code",
   "execution_count": 79,
   "metadata": {},
   "outputs": [
    {
     "data": {
      "text/plain": [
       "185.61290322580646"
      ]
     },
     "execution_count": 79,
     "metadata": {},
     "output_type": "execute_result"
    }
   ],
   "source": [
    "df['y'].min()"
   ]
  },
  {
   "cell_type": "code",
   "execution_count": 147,
   "metadata": {},
   "outputs": [
    {
     "data": {
      "image/png": "[encoded data removed]",
      "text/plain": [
       "<matplotlib.figure.Figure at 0x11dcd55c0>"
      ]
     },
     "metadata": {},
     "output_type": "display_data"
    }
   ],
   "source": [
    "plt.figure(figsize= (8, 8))\n",
    "sns.scatterplot(x=df.loc[:, 'x'], y=df.loc[:, 'y'], alpha= 0.4)\n",
    "plt.show()"
   ]
  },
  {
   "cell_type": "code",
   "execution_count": 217,
   "metadata": {},
   "outputs": [],
   "source": [
    "df[['x-1', 'y-1']] = df[['x', 'y']].shift(1)\n",
    "df[['x-5', 'y-5']] = df[['x', 'y']].shift(5)\n",
    "df[['x-10', 'y-10']] = df[['x', 'y']].shift(10)"
   ]
  },
  {
   "cell_type": "code",
   "execution_count": 269,
   "metadata": {},
   "outputs": [],
   "source": [
    "frames = 30.0183\n",
    "df['v_1'] = np.sqrt(np.square(df['x']- df['x-1'])+ np.square(df['y']- df['y-1']))*frames\n",
    "df['v_5'] = np.sqrt(np.square(df['x']- df['x-5'])+ np.square(df['y']- df['y-5']))*(frames/5.0)\n",
    "df['v_10'] = np.sqrt(np.square(df['x']- df['x-10'])+ np.square(df['y']- df['y-10']))*(frames/10.0)\n",
    "df['dir'] = np.where(np.abs(df['x-1']-df['x']) > np.abs(df['y-1']-df['y']), \n",
    "                    np.where(df['x-1']>df['x'], 'l', 'r'), np.where(df['y-1']> df['y'], 'd', 'u'))\n",
    "df['rest'] = np.where(df['v_1'] ==0, 1, 0)\n",
    "df['safe'] = np.where((df['x'] < (cl_xmin+ 0.05*(cl_xmax-cl_xmin))) | (df['x'] > (cr_xmax - 0.05*(cl_xmax-cl_xmin))), 1, 0)"
   ]
  },
  {
   "cell_type": "code",
   "execution_count": 299,
   "metadata": {},
   "outputs": [
    {
     "data": {
      "image/png": "[encoded data removed]",
      "text/plain": [
       "<matplotlib.figure.Figure at 0x11db1fe80>"
      ]
     },
     "metadata": {},
     "output_type": "display_data"
    }
   ],
   "source": [
    "plt.figure(figsize= (16, 8))\n",
    "plt.title(\"Mouse speed\")\n",
    "plt.xlabel(\"Frames\")\n",
    "plt.ylabel(\"Speed(pixels per second)\")\n",
    "sns.lineplot(x= np.arange(401),y=df.loc[:400, 'v_1'])\n",
    "plt.show()"
   ]
  },
  {
   "cell_type": "code",
   "execution_count": 209,
   "metadata": {
    "collapsed": true
   },
   "outputs": [],
   "source": [
    "zones = ['CL', 'CR', 'OB', 'OT', 'M']\n",
    "t = pd.DataFrame(np.zeros((1,5)), columns= zones)"
   ]
  },
  {
   "cell_type": "code",
   "execution_count": 248,
   "metadata": {},
   "outputs": [],
   "source": [
    "for zone in zones:\n",
    "    t.loc[:, zone] = (df['zone'] == zone).sum()*100.0/df['zone'].isin(zones).sum()\n",
    "\n",
    "t['rest'] = np.sum(df['rest']==1)*100.0/df['zone'].isin(zones).sum()\n",
    "t['safe'] = np.sum((df['rest']==1) & (df['safe']==1))*100.0/df['zone'].isin(zones).sum()\n",
    "\n",
    "t['peek'] = np.sum((df['rest']==1) & (df['x'] < cr_xmax+ 0.05*(cr_xmax-cr_xmin)) &\n",
    "                  (df['x'] > cl_xmax - 0.05*(cl_xmax-cl_xmin)) & (df['y'] > ob_ymax- 0.05*(ob_ymax-ob_ymin)) &\n",
    "                   (df['y'] < ot_ymax+ 0.05*(ot_ymax-ot_ymin))\n",
    "                  )*100.0/df['zone'].isin(zones).sum()"
   ]
  },
  {
   "cell_type": "code",
   "execution_count": 232,
   "metadata": {},
   "outputs": [],
   "source": [
    "t['closed'] = t['CL'] + t['CR']\n",
    "t['open'] = t['OB'] + t['OT'] + t['M']\n"
   ]
  },
  {
   "cell_type": "code",
   "execution_count": 245,
   "metadata": {
    "collapsed": true
   },
   "outputs": [],
   "source": [
    "p = pd.DataFrame(columns= zones)"
   ]
  },
  {
   "cell_type": "code",
   "execution_count": 246,
   "metadata": {},
   "outputs": [],
   "source": [
    "for zone in zones:\n",
    "    p.loc[:, zone] = (df.loc[df['zone'] == zone, 'x'].mean(), df.loc[df['zone'] == zone, 'y'].mean())"
   ]
  },
  {
   "cell_type": "code",
   "execution_count": 255,
   "metadata": {
    "collapsed": true
   },
   "outputs": [],
   "source": [
    "v = pd.DataFrame(np.zeros((1,5)), columns= zones)"
   ]
  },
  {
   "cell_type": "code",
   "execution_count": null,
   "metadata": {
    "collapsed": true
   },
   "outputs": [],
   "source": [
    "# for zone in zones:\n",
    "#     for dir in ['l', 'r', 'u', 'd']:\n",
    "        "
   ]
  },
  {
   "cell_type": "code",
   "execution_count": 270,
   "metadata": {},
   "outputs": [],
   "source": [
    "for zone in zones:\n",
    "    v.loc[:, zone] = df.loc[df['zone'] == zone, 'v_1'].mean()\n",
    "v['CL-l'] = df.loc[(df['dir']=='l') & (df['zone'] == 'CL'),'v_1'].mean()\n",
    "v['CL-r'] = df.loc[(df['dir']=='r') & (df['zone'] == 'CL'),'v_1'].mean()\n",
    "v['CR-l'] = df.loc[(df['dir']=='l') & (df['zone'] == 'CR'),'v_1'].mean()\n",
    "v['CR-r'] = df.loc[(df['dir']=='r') & (df['zone'] == 'CR'),'v_1'].mean()\n",
    "v['OB-u'] = df.loc[(df['dir']=='u') & (df['zone'] == 'OB'),'v_1'].mean()\n",
    "v['OB-d'] = df.loc[(df['dir']=='d') & (df['zone'] == 'OB'),'v_1'].mean()\n",
    "v['OT-u'] = df.loc[(df['dir']=='u') & (df['zone'] == 'OT'),'v_1'].mean()\n",
    "v['OT-d'] = df.loc[(df['dir']=='d') & (df['zone'] == 'OT'),'v_1'].mean()"
   ]
  },
  {
   "cell_type": "code",
   "execution_count": 298,
   "metadata": {},
   "outputs": [
    {
     "data": {
      "text/html": [
       "<div>\n",
       "<style scoped>\n",
       "    .dataframe tbody tr th:only-of-type {\n",
       "        vertical-align: middle;\n",
       "    }\n",
       "\n",
       "    .dataframe tbody tr th {\n",
       "        vertical-align: top;\n",
       "    }\n",
       "\n",
       "    .dataframe thead th {\n",
       "        text-align: right;\n",
       "    }\n",
       "</style>\n",
       "<table border=\"1\" class=\"dataframe\">\n",
       "  <thead>\n",
       "    <tr style=\"text-align: right;\">\n",
       "      <th></th>\n",
       "      <th>frame</th>\n",
       "      <th>x</th>\n",
       "      <th>y</th>\n",
       "      <th>zone</th>\n",
       "      <th>x-1</th>\n",
       "      <th>y-1</th>\n",
       "      <th>x-5</th>\n",
       "      <th>y-5</th>\n",
       "      <th>x-10</th>\n",
       "      <th>y-10</th>\n",
       "      <th>v_1</th>\n",
       "      <th>v_5</th>\n",
       "      <th>v_10</th>\n",
       "      <th>rest</th>\n",
       "      <th>safe</th>\n",
       "      <th>dir</th>\n",
       "    </tr>\n",
       "  </thead>\n",
       "  <tbody>\n",
       "    <tr>\n",
       "      <th>0</th>\n",
       "      <td>0</td>\n",
       "      <td>268.851064</td>\n",
       "      <td>179.765957</td>\n",
       "      <td>nan</td>\n",
       "      <td>NaN</td>\n",
       "      <td>NaN</td>\n",
       "      <td>NaN</td>\n",
       "      <td>NaN</td>\n",
       "      <td>NaN</td>\n",
       "      <td>NaN</td>\n",
       "      <td>NaN</td>\n",
       "      <td>NaN</td>\n",
       "      <td>NaN</td>\n",
       "      <td>0</td>\n",
       "      <td>0</td>\n",
       "      <td>u</td>\n",
       "    </tr>\n",
       "    <tr>\n",
       "      <th>1</th>\n",
       "      <td>1</td>\n",
       "      <td>268.851064</td>\n",
       "      <td>179.765957</td>\n",
       "      <td>nan</td>\n",
       "      <td>268.851064</td>\n",
       "      <td>179.765957</td>\n",
       "      <td>NaN</td>\n",
       "      <td>NaN</td>\n",
       "      <td>NaN</td>\n",
       "      <td>NaN</td>\n",
       "      <td>0.0</td>\n",
       "      <td>NaN</td>\n",
       "      <td>NaN</td>\n",
       "      <td>1</td>\n",
       "      <td>0</td>\n",
       "      <td>u</td>\n",
       "    </tr>\n",
       "    <tr>\n",
       "      <th>2</th>\n",
       "      <td>2</td>\n",
       "      <td>268.851064</td>\n",
       "      <td>179.765957</td>\n",
       "      <td>nan</td>\n",
       "      <td>268.851064</td>\n",
       "      <td>179.765957</td>\n",
       "      <td>NaN</td>\n",
       "      <td>NaN</td>\n",
       "      <td>NaN</td>\n",
       "      <td>NaN</td>\n",
       "      <td>0.0</td>\n",
       "      <td>NaN</td>\n",
       "      <td>NaN</td>\n",
       "      <td>1</td>\n",
       "      <td>0</td>\n",
       "      <td>u</td>\n",
       "    </tr>\n",
       "    <tr>\n",
       "      <th>3</th>\n",
       "      <td>3</td>\n",
       "      <td>268.851064</td>\n",
       "      <td>179.765957</td>\n",
       "      <td>nan</td>\n",
       "      <td>268.851064</td>\n",
       "      <td>179.765957</td>\n",
       "      <td>NaN</td>\n",
       "      <td>NaN</td>\n",
       "      <td>NaN</td>\n",
       "      <td>NaN</td>\n",
       "      <td>0.0</td>\n",
       "      <td>NaN</td>\n",
       "      <td>NaN</td>\n",
       "      <td>1</td>\n",
       "      <td>0</td>\n",
       "      <td>u</td>\n",
       "    </tr>\n",
       "    <tr>\n",
       "      <th>4</th>\n",
       "      <td>4</td>\n",
       "      <td>268.851064</td>\n",
       "      <td>179.765957</td>\n",
       "      <td>nan</td>\n",
       "      <td>268.851064</td>\n",
       "      <td>179.765957</td>\n",
       "      <td>NaN</td>\n",
       "      <td>NaN</td>\n",
       "      <td>NaN</td>\n",
       "      <td>NaN</td>\n",
       "      <td>0.0</td>\n",
       "      <td>NaN</td>\n",
       "      <td>NaN</td>\n",
       "      <td>1</td>\n",
       "      <td>0</td>\n",
       "      <td>u</td>\n",
       "    </tr>\n",
       "  </tbody>\n",
       "</table>\n",
       "</div>"
      ],
      "text/plain": [
       "   frame           x           y zone         x-1         y-1  x-5  y-5  x-10  \\\n",
       "0      0  268.851064  179.765957  nan         NaN         NaN  NaN  NaN   NaN   \n",
       "1      1  268.851064  179.765957  nan  268.851064  179.765957  NaN  NaN   NaN   \n",
       "2      2  268.851064  179.765957  nan  268.851064  179.765957  NaN  NaN   NaN   \n",
       "3      3  268.851064  179.765957  nan  268.851064  179.765957  NaN  NaN   NaN   \n",
       "4      4  268.851064  179.765957  nan  268.851064  179.765957  NaN  NaN   NaN   \n",
       "\n",
       "   y-10  v_1  v_5  v_10  rest  safe dir  \n",
       "0   NaN  NaN  NaN   NaN     0     0   u  \n",
       "1   NaN  0.0  NaN   NaN     1     0   u  \n",
       "2   NaN  0.0  NaN   NaN     1     0   u  \n",
       "3   NaN  0.0  NaN   NaN     1     0   u  \n",
       "4   NaN  0.0  NaN   NaN     1     0   u  "
      ]
     },
     "execution_count": 298,
     "metadata": {},
     "output_type": "execute_result"
    }
   ],
   "source": [
    "df.head()"
   ]
  },
  {
   "cell_type": "code",
   "execution_count": 273,
   "metadata": {},
   "outputs": [
    {
     "data": {
      "text/html": [
       "<div>\n",
       "<style scoped>\n",
       "    .dataframe tbody tr th:only-of-type {\n",
       "        vertical-align: middle;\n",
       "    }\n",
       "\n",
       "    .dataframe tbody tr th {\n",
       "        vertical-align: top;\n",
       "    }\n",
       "\n",
       "    .dataframe thead th {\n",
       "        text-align: right;\n",
       "    }\n",
       "</style>\n",
       "<table border=\"1\" class=\"dataframe\">\n",
       "  <thead>\n",
       "    <tr style=\"text-align: right;\">\n",
       "      <th></th>\n",
       "      <th>CL</th>\n",
       "      <th>CR</th>\n",
       "      <th>OB</th>\n",
       "      <th>OT</th>\n",
       "      <th>M</th>\n",
       "      <th>rest</th>\n",
       "      <th>safe</th>\n",
       "      <th>closed</th>\n",
       "      <th>open</th>\n",
       "      <th>peek</th>\n",
       "    </tr>\n",
       "  </thead>\n",
       "  <tbody>\n",
       "    <tr>\n",
       "      <th>0</th>\n",
       "      <td>95.691102</td>\n",
       "      <td>3.86122</td>\n",
       "      <td>0.0</td>\n",
       "      <td>0.447678</td>\n",
       "      <td>0.0</td>\n",
       "      <td>103.245663</td>\n",
       "      <td>1.91662</td>\n",
       "      <td>99.552322</td>\n",
       "      <td>0.447678</td>\n",
       "      <td>0.0</td>\n",
       "    </tr>\n",
       "  </tbody>\n",
       "</table>\n",
       "</div>"
      ],
      "text/plain": [
       "          CL       CR   OB        OT    M        rest     safe     closed  \\\n",
       "0  95.691102  3.86122  0.0  0.447678  0.0  103.245663  1.91662  99.552322   \n",
       "\n",
       "       open  peek  \n",
       "0  0.447678   0.0  "
      ]
     },
     "execution_count": 273,
     "metadata": {},
     "output_type": "execute_result"
    }
   ],
   "source": [
    "t\n",
    "\n",
    "#ToDo\n",
    "#sensitivity analysis: t-5? 5%? \n",
    "#Smoothing"
   ]
  },
  {
   "cell_type": "code",
   "execution_count": 267,
   "metadata": {},
   "outputs": [
    {
     "data": {
      "text/html": [
       "<div>\n",
       "<style scoped>\n",
       "    .dataframe tbody tr th:only-of-type {\n",
       "        vertical-align: middle;\n",
       "    }\n",
       "\n",
       "    .dataframe tbody tr th {\n",
       "        vertical-align: top;\n",
       "    }\n",
       "\n",
       "    .dataframe thead th {\n",
       "        text-align: right;\n",
       "    }\n",
       "</style>\n",
       "<table border=\"1\" class=\"dataframe\">\n",
       "  <thead>\n",
       "    <tr style=\"text-align: right;\">\n",
       "      <th></th>\n",
       "      <th>CL</th>\n",
       "      <th>CR</th>\n",
       "      <th>OB</th>\n",
       "      <th>OT</th>\n",
       "      <th>M</th>\n",
       "    </tr>\n",
       "  </thead>\n",
       "  <tbody>\n",
       "    <tr>\n",
       "      <th>0</th>\n",
       "      <td>196.407189</td>\n",
       "      <td>379.375804</td>\n",
       "      <td>NaN</td>\n",
       "      <td>277.916450</td>\n",
       "      <td>NaN</td>\n",
       "    </tr>\n",
       "    <tr>\n",
       "      <th>1</th>\n",
       "      <td>183.715697</td>\n",
       "      <td>178.118657</td>\n",
       "      <td>NaN</td>\n",
       "      <td>41.368731</td>\n",
       "      <td>NaN</td>\n",
       "    </tr>\n",
       "  </tbody>\n",
       "</table>\n",
       "</div>"
      ],
      "text/plain": [
       "           CL          CR  OB          OT   M\n",
       "0  196.407189  379.375804 NaN  277.916450 NaN\n",
       "1  183.715697  178.118657 NaN   41.368731 NaN"
      ]
     },
     "execution_count": 267,
     "metadata": {},
     "output_type": "execute_result"
    }
   ],
   "source": [
    "p"
   ]
  },
  {
   "cell_type": "code",
   "execution_count": 271,
   "metadata": {},
   "outputs": [
    {
     "data": {
      "text/html": [
       "<div>\n",
       "<style scoped>\n",
       "    .dataframe tbody tr th:only-of-type {\n",
       "        vertical-align: middle;\n",
       "    }\n",
       "\n",
       "    .dataframe tbody tr th {\n",
       "        vertical-align: top;\n",
       "    }\n",
       "\n",
       "    .dataframe thead th {\n",
       "        text-align: right;\n",
       "    }\n",
       "</style>\n",
       "<table border=\"1\" class=\"dataframe\">\n",
       "  <thead>\n",
       "    <tr style=\"text-align: right;\">\n",
       "      <th></th>\n",
       "      <th>CL</th>\n",
       "      <th>CR</th>\n",
       "      <th>OB</th>\n",
       "      <th>OT</th>\n",
       "      <th>M</th>\n",
       "      <th>CL-l</th>\n",
       "      <th>CL-r</th>\n",
       "      <th>CR-l</th>\n",
       "      <th>CR-r</th>\n",
       "      <th>OB-u</th>\n",
       "      <th>OB-d</th>\n",
       "      <th>OT-u</th>\n",
       "      <th>OT-d</th>\n",
       "    </tr>\n",
       "  </thead>\n",
       "  <tbody>\n",
       "    <tr>\n",
       "      <th>0</th>\n",
       "      <td>7.458818</td>\n",
       "      <td>181.583652</td>\n",
       "      <td>NaN</td>\n",
       "      <td>198.863997</td>\n",
       "      <td>NaN</td>\n",
       "      <td>125.427646</td>\n",
       "      <td>45.343304</td>\n",
       "      <td>144.82741</td>\n",
       "      <td>135.021534</td>\n",
       "      <td>NaN</td>\n",
       "      <td>NaN</td>\n",
       "      <td>617.086223</td>\n",
       "      <td>60.179008</td>\n",
       "    </tr>\n",
       "  </tbody>\n",
       "</table>\n",
       "</div>"
      ],
      "text/plain": [
       "         CL          CR  OB          OT   M        CL-l       CL-r       CR-l  \\\n",
       "0  7.458818  181.583652 NaN  198.863997 NaN  125.427646  45.343304  144.82741   \n",
       "\n",
       "         CR-r  OB-u  OB-d        OT-u       OT-d  \n",
       "0  135.021534   NaN   NaN  617.086223  60.179008  "
      ]
     },
     "execution_count": 271,
     "metadata": {},
     "output_type": "execute_result"
    }
   ],
   "source": [
    "v"
   ]
  },
  {
   "cell_type": "code",
   "execution_count": 306,
   "metadata": {
    "collapsed": true
   },
   "outputs": [],
   "source": [
    "def basic_features(centroids, zones_dict):\n",
    "    '''Calcultes the following features: Position, Speed, Direction, Safe, Rest\n",
    "    Input: centroids output from code as a dataframe; zones_dict(coordinates of each arm)'''\n",
    "    \n",
    "    df = centroids\n",
    "    \n",
    "    # Get X and Y cooredinates of each zones and identify for each frame\n",
    "    cl_xmin = np.min([zones_dict['CL'][0][0], zones_dict['CL'][3][0]])\n",
    "    cl_xmax = np.mean([zones_dict['CL'][1][0], zones_dict['CL'][2][0]])\n",
    "\n",
    "    cl_ymin = np.min([zones_dict['CL'][0][1], zones_dict['CL'][1][1]])\n",
    "    cl_ymax = np.max([zones_dict['CL'][2][1], zones_dict['CL'][3][1]])\n",
    "\n",
    "    cr_xmin = np.mean([zones_dict['CR'][0][0], zones_dict['CR'][3][0]])\n",
    "    cr_xmax = np.max([zones_dict['CR'][1][0], zones_dict['CR'][2][0]])\n",
    "\n",
    "    cr_ymin = np.min([zones_dict['CR'][0][1], zones_dict['CR'][1][1]]) #same as CL\n",
    "    cr_ymax = np.max([zones_dict['CR'][2][1], zones_dict['CR'][3][1]])\n",
    "\n",
    "    ob_xmin = np.min([zones_dict['OB'][0][0], zones_dict['OB'][3][0]])\n",
    "    ob_xmax = np.max([zones_dict['OB'][1][0], zones_dict['OB'][2][0]])\n",
    "\n",
    "    ob_ymin = np.min([zones_dict['OB'][0][1], zones_dict['OB'][1][1]])\n",
    "    ob_ymax = np.mean([zones_dict['OB'][2][1], zones_dict['OB'][3][1]])\n",
    "\n",
    "    ot_xmin = np.min([zones_dict['OT'][0][0], zones_dict['OT'][3][0]]) #same as OB\n",
    "    ot_xmax = np.max([zones_dict['OT'][1][0], zones_dict['OT'][2][0]])\n",
    "\n",
    "    ot_ymin = np.mean([zones_dict['OT'][0][1], zones_dict['OT'][1][1]])\n",
    "    ot_ymax = np.max([zones_dict['OT'][2][1], zones_dict['OT'][3][1]])\n",
    "\n",
    "    m_xmin = cl_xmax\n",
    "    m_xmax = cr_xmin\n",
    "    m_ymin = ob_ymax\n",
    "    m_ymax = ot_ymin\n",
    "    \n",
    "    \n",
    "    df['zone'] = np.where(((cl_xmin<= df['x']) & (df['x']<=cl_xmax) & (cl_ymin<= df['y']) & (df['y']<=cl_ymax)), 'CL',\n",
    "                      np.where(((cr_xmin<= df['x']) & (df['x']<=cr_xmax) & (cr_ymin<= df['y']) & (df['y']<=cr_ymax)), 'CR', \n",
    "                               np.where(((ob_xmin<= df['x']) & (df['x']<=ob_xmax) & (ob_ymin<= df['y']) & (df['y']<=ob_ymax)), 'OB', \n",
    "                                        np.where(((ot_xmin<= df['x']) & (df['x']<=ot_xmax) & (ot_ymin<= df['y']) & (df['y']<=ot_ymax)), 'OT', \n",
    "                                                 np.where(((m_xmin<= df['x']) & (df['x']<=m_xmax) & (m_ymin<= df['y']) & (df['y']<=m_ymax)), 'M', np.nan))))) \n",
    "    \n",
    "    # Finding movement based parameters\n",
    "    \n",
    "    df[['x-1', 'y-1']] = df[['x', 'y']].shift(1)\n",
    "    df[['x-5', 'y-5']] = df[['x', 'y']].shift(5)\n",
    "    df[['x-10', 'y-10']] = df[['x', 'y']].shift(10)\n",
    "    \n",
    "    frames = 30.0183 # number of frames per second\n",
    "    \n",
    "    #Finding velocities\n",
    "    df['v_1']= np.sqrt(np.square(df['x']- df['x-1'])+ np.square(df['y']- df['y-1']))*frames\n",
    "    df['v_5']= np.sqrt(np.square(df['x']- df['x-5'])+ np.square(df['y']- df['y-5']))*(frames/5.0)\n",
    "    df['v_10']= np.sqrt(np.square(df['x']- df['x-10'])+ np.square(df['y']- df['y-10']))*(frames/10.0)\n",
    "    \n",
    "    #Other features\n",
    "    \n",
    "    safe_size = 0.05\n",
    "    \n",
    "    df['rest'] = np.where(df['v_1'] ==0, 1, 0)\n",
    "    df['safe_rest'] = np.where((df['x'] < (cl_xmin+ safe_size*(cl_xmax-cl_xmin))) | (df['x'] > (cr_xmax - safe_size*(cl_xmax-cl_xmin))), 1, 0)\n",
    "    df['safe_pos'] = np.where((df['x'] < (cl_xmin+ safe_size*(cl_xmax-cl_xmin))) | (df['x'] > (cr_xmax - safe_size*(cl_xmax-cl_xmin))), 1, 0)\n",
    "    df['dir'] = np.where(np.abs(df['x-1']-df['x']) > np.abs(df['y-1']-df['y']), \n",
    "                    np.where(df['x-1']>df['x'], 'l', 'r'), np.where(df['y-1']> df['y'], 'd', 'u'))\n",
    "    \n",
    "    return df"
   ]
  },
  {
   "cell_type": "code",
   "execution_count": 323,
   "metadata": {
    "collapsed": true
   },
   "outputs": [],
   "source": [
    "def agg_features(df_basic):\n",
    "    '''Input: df_basic output from basic_features function\n",
    "    Output: t, p, v: dataframes with time, position & velocity aggregated features'''\n",
    "    \n",
    "    zones = ['CL', 'CR', 'OB', 'OT', 'M']\n",
    "    t = pd.DataFrame(np.zeros((1,5)), columns= zones)\n",
    "    v = pd.DataFrame(np.zeros((1,5)), columns= zones)\n",
    "    p = pd.DataFrame(columns= zones)\n",
    "    \n",
    "    for zone in zones:\n",
    "        t.loc[:, zone] = (df['zone'] == zone).sum()*100.0/df['zone'].isin(zones).sum()\n",
    "        v.loc[:, zone] = df.loc[df['zone'] == zone, 'v_1'].mean()\n",
    "        p.loc[:, zone] = (df.loc[df['zone'] == zone, 'x'].mean(), df.loc[df['zone'] == zone, 'y'].mean())\n",
    "\n",
    "    t['rest'] = np.sum(df['rest']==1)*100.0/df['zone'].isin(zones).sum()\n",
    "    t['safe'] = np.sum((df['rest']==1) & (df['safe']==1))*100.0/df['zone'].isin(zones).sum()\n",
    "    t['peek'] = np.sum((df['rest']==1) & (df['x'] < cr_xmax+ 0.05*(cr_xmax-cr_xmin)) &\n",
    "                      (df['x'] > cl_xmax - 0.05*(cl_xmax-cl_xmin)) & (df['y'] > ob_ymax- 0.05*(ob_ymax-ob_ymin)) &\n",
    "                       (df['y'] < ot_ymax+ 0.05*(ot_ymax-ot_ymin))\n",
    "                      )*100.0/df['zone'].isin(zones).sum()\n",
    "    t['closed'] = t['CL'] + t['CR']\n",
    "    t['open'] = t['OB'] + t['OT'] + t['M']\n",
    "    \n",
    "    v['CL-l'] = df.loc[(df['dir']=='l') & (df['zone'] == 'CL'),'v_1'].mean()\n",
    "    v['CL-r'] = df.loc[(df['dir']=='r') & (df['zone'] == 'CL'),'v_1'].mean()\n",
    "    v['CR-l'] = df.loc[(df['dir']=='l') & (df['zone'] == 'CR'),'v_1'].mean()\n",
    "    v['CR-r'] = df.loc[(df['dir']=='r') & (df['zone'] == 'CR'),'v_1'].mean()\n",
    "    v['OB-u'] = df.loc[(df['dir']=='u') & (df['zone'] == 'OB'),'v_1'].mean()\n",
    "    v['OB-d'] = df.loc[(df['dir']=='d') & (df['zone'] == 'OB'),'v_1'].mean()\n",
    "    v['OT-u'] = df.loc[(df['dir']=='u') & (df['zone'] == 'OT'),'v_1'].mean()\n",
    "    v['OT-d'] = df.loc[(df['dir']=='d') & (df['zone'] == 'OT'),'v_1'].mean()\n",
    "    \n",
    "    return t, p, v\n"
   ]
  },
  {
   "cell_type": "code",
   "execution_count": 324,
   "metadata": {},
   "outputs": [],
   "source": [
    "df_features = basic_features(df, zones_dict)"
   ]
  },
  {
   "cell_type": "code",
   "execution_count": 325,
   "metadata": {},
   "outputs": [],
   "source": [
    "t, p ,v =  agg_features(df_features)"
   ]
  },
  {
   "cell_type": "code",
   "execution_count": 326,
   "metadata": {},
   "outputs": [
    {
     "data": {
      "text/html": [
       "<div>\n",
       "<style scoped>\n",
       "    .dataframe tbody tr th:only-of-type {\n",
       "        vertical-align: middle;\n",
       "    }\n",
       "\n",
       "    .dataframe tbody tr th {\n",
       "        vertical-align: top;\n",
       "    }\n",
       "\n",
       "    .dataframe thead th {\n",
       "        text-align: right;\n",
       "    }\n",
       "</style>\n",
       "<table border=\"1\" class=\"dataframe\">\n",
       "  <thead>\n",
       "    <tr style=\"text-align: right;\">\n",
       "      <th></th>\n",
       "      <th>CL</th>\n",
       "      <th>CR</th>\n",
       "      <th>OB</th>\n",
       "      <th>OT</th>\n",
       "      <th>M</th>\n",
       "      <th>CL-l</th>\n",
       "      <th>CL-r</th>\n",
       "      <th>CR-l</th>\n",
       "      <th>CR-r</th>\n",
       "      <th>OB-u</th>\n",
       "      <th>OB-d</th>\n",
       "      <th>OT-u</th>\n",
       "      <th>OT-d</th>\n",
       "    </tr>\n",
       "  </thead>\n",
       "  <tbody>\n",
       "    <tr>\n",
       "      <th>0</th>\n",
       "      <td>7.458818</td>\n",
       "      <td>181.583652</td>\n",
       "      <td>NaN</td>\n",
       "      <td>198.863997</td>\n",
       "      <td>NaN</td>\n",
       "      <td>125.427646</td>\n",
       "      <td>45.343304</td>\n",
       "      <td>144.82741</td>\n",
       "      <td>135.021534</td>\n",
       "      <td>NaN</td>\n",
       "      <td>NaN</td>\n",
       "      <td>617.086223</td>\n",
       "      <td>60.179008</td>\n",
       "    </tr>\n",
       "  </tbody>\n",
       "</table>\n",
       "</div>"
      ],
      "text/plain": [
       "         CL          CR  OB          OT   M        CL-l       CL-r       CR-l  \\\n",
       "0  7.458818  181.583652 NaN  198.863997 NaN  125.427646  45.343304  144.82741   \n",
       "\n",
       "         CR-r  OB-u  OB-d        OT-u       OT-d  \n",
       "0  135.021534   NaN   NaN  617.086223  60.179008  "
      ]
     },
     "execution_count": 326,
     "metadata": {},
     "output_type": "execute_result"
    }
   ],
   "source": [
    "v"
   ]
  },
  {
   "cell_type": "code",
   "execution_count": null,
   "metadata": {
    "collapsed": true
   },
   "outputs": [],
   "source": []
  }
 ],
 "metadata": {
  "kernelspec": {
   "display_name": "Python 3",
   "language": "python",
   "name": "python3"
  },
  "language_info": {
   "codemirror_mode": {
    "name": "ipython",
    "version": 3
   },
   "file_extension": ".py",
   "mimetype": "text/x-python",
   "name": "python",
   "nbconvert_exporter": "python",
   "pygments_lexer": "ipython3",
   "version": "3.6.3"
  }
 },
 "nbformat": 4,
 "nbformat_minor": 2
}
