{
 "cells": [
  {
   "cell_type": "code",
   "execution_count": 1,
   "metadata": {
    "collapsed": true
   },
   "outputs": [],
   "source": [
    "import numpy as np"
   ]
  },
  {
   "cell_type": "code",
   "execution_count": 2,
   "metadata": {},
   "outputs": [
    {
     "data": {
      "text/plain": [
       "array([[ 0,  0,  0, ..., 14,  7,  0],\n",
       "       [ 0,  0,  0, ..., 14,  7,  0],\n",
       "       [ 0,  0,  0, ..., 15,  8,  0],\n",
       "       ..., \n",
       "       [ 0,  0,  0, ...,  0,  9,  0],\n",
       "       [ 0,  0,  0, ...,  0,  9,  0],\n",
       "       [ 0,  0,  0, ...,  0,  9,  0]], dtype=int64)"
      ]
     },
     "execution_count": 2,
     "metadata": {},
     "output_type": "execute_result"
    }
   ],
   "source": [
    "# results_array: 4,6,7,8 are the arms, 5 is the middle area\n",
    "results_array = np.load('results_array.npy')\n",
    "# results_array[i, j]: how many parts of the frame i are in zone j\n",
    "results_array"
   ]
  },
  {
   "cell_type": "code",
   "execution_count": 3,
   "metadata": {},
   "outputs": [
    {
     "data": {
      "text/plain": [
       "(9000L, 9L)"
      ]
     },
     "execution_count": 3,
     "metadata": {},
     "output_type": "execute_result"
    }
   ],
   "source": [
    "results_array.shape"
   ]
  },
  {
   "cell_type": "code",
   "execution_count": 33,
   "metadata": {
    "collapsed": true
   },
   "outputs": [],
   "source": [
    "#list(set(zip(*results_array)[1]))"
   ]
  },
  {
   "cell_type": "code",
   "execution_count": 15,
   "metadata": {
    "collapsed": true
   },
   "outputs": [],
   "source": [
    "zones = {'F1': [(162.31458256068703, 8.2770534550199955), (311.14234344114061, 8.2770534550195975), (312.88827605192603, 164.41331264811259), (158.75509946587033, 164.89430962695039)], 'F2': [(336.98244101442572, 8.2770534550195975), (491.55037290620794, 8.2770534551236778), (491.48469108802612, 163.8559742608403), (338.47580378248279, 164.33346271698855)], 'F3': [(338.70245716665022, 188.01874136248435), (491.48469108802612, 187.54273036968502), (491.4065148076516, 349.03022293373942), (340.21245321108631, 345.81332800605628)], 'F4': [(158.21676409976021, 188.58106573579505), (313.15312463758573, 188.09834330853769), (314.91069100391132, 345.27499263994616), (154.7329938544286, 341.86695653038259)], 'CL': [(158.75509946587033, 164.89430962695039), (312.88827605192603, 164.41331264811259), (313.15312463758573, 188.09834330853769), (158.21676409976021, 188.58106573579505)], 'M': [(312.88827605192603, 164.41331264811259), (338.47580378248279, 164.33346271698855), (338.70245716665022, 188.01874136248435), (313.15312463758573, 188.09834330853769)], 'OB': [(313.15312463758573, 188.09834330853769), (338.70245716665022, 188.01874136248435), (340.21245321108631, 345.81332800605628), (314.91069100391132, 345.27499263994616)], 'CR': [(338.47580378248279, 164.33346271698855), (491.48469108802612, 163.8559742608403), (491.48469108802612, 187.54273036968502), (338.70245716665022, 188.01874136248435)], 'OT': [(311.14234344114061, 8.2770534550195975), (336.98244101442572, 8.2770534550195975), (338.47580378248279, 164.33346271698855), (312.88827605192603, 164.41331264811259)]}"
   ]
  },
  {
   "cell_type": "code",
   "execution_count": 16,
   "metadata": {
    "collapsed": true
   },
   "outputs": [],
   "source": [
    "shape = (360, 640)"
   ]
  },
  {
   "cell_type": "code",
   "execution_count": 17,
   "metadata": {
    "collapsed": true
   },
   "outputs": [],
   "source": [
    "from PIL import Image,ImageFilter,ImageDraw"
   ]
  },
  {
   "cell_type": "code",
   "execution_count": 24,
   "metadata": {
    "collapsed": true
   },
   "outputs": [],
   "source": [
    "def line_fx_from_pts(p1,p2):\n",
    "    '''returns m and b for a line through two points supplied'''\n",
    "    run,rise = np.array(p1)-np.array(p2)\n",
    "    if run == 0:\n",
    "        run = 10e-3\n",
    "    m = rise/run\n",
    "    b = p1[1]-(m*p1[0])\n",
    "    return m,b"
   ]
  },
  {
   "cell_type": "code",
   "execution_count": 25,
   "metadata": {
    "collapsed": true
   },
   "outputs": [],
   "source": [
    "def outline_from_polygon(poly):\n",
    "    pd_poly = []\n",
    "    for itr in range(len(poly)):\n",
    "        i = itr-1\n",
    "        m,b = line_fx_from_pts(map(float,poly[i]),poly[i+1])\n",
    "        step = poly[i][0] < poly[i+1][0] and 1 or -1\n",
    "        edge = [(x,m*x+b) for x in xrange(int(poly[i][0]),int(poly[i+1][0]),step)]\n",
    "        pd_poly.extend(edge)\n",
    "\n",
    "    return pd_poly"
   ]
  },
  {
   "cell_type": "code",
   "execution_count": 26,
   "metadata": {
    "collapsed": true
   },
   "outputs": [],
   "source": [
    "def mask_from_outline(outline,shape):\n",
    "    if len(outline) < 2:\n",
    "        return numpy.zeros(shape,dtype=bool)\n",
    "\n",
    "    img = Image.new('L', tuple(reversed(shape)), 0)\n",
    "    ImageDraw.Draw(img).polygon(outline, outline=1, fill=1)\n",
    "    return np.array(img).astype(bool)"
   ]
  },
  {
   "cell_type": "code",
   "execution_count": 27,
   "metadata": {},
   "outputs": [
    {
     "data": {
      "text/plain": [
       "{'CL': array([[False, False, False, ..., False, False, False],\n",
       "        [False, False, False, ..., False, False, False],\n",
       "        [False, False, False, ..., False, False, False],\n",
       "        ..., \n",
       "        [False, False, False, ..., False, False, False],\n",
       "        [False, False, False, ..., False, False, False],\n",
       "        [False, False, False, ..., False, False, False]], dtype=bool),\n",
       " 'CR': array([[False, False, False, ..., False, False, False],\n",
       "        [False, False, False, ..., False, False, False],\n",
       "        [False, False, False, ..., False, False, False],\n",
       "        ..., \n",
       "        [False, False, False, ..., False, False, False],\n",
       "        [False, False, False, ..., False, False, False],\n",
       "        [False, False, False, ..., False, False, False]], dtype=bool),\n",
       " 'F1': array([[False, False, False, ..., False, False, False],\n",
       "        [False, False, False, ..., False, False, False],\n",
       "        [False, False, False, ..., False, False, False],\n",
       "        ..., \n",
       "        [False, False, False, ..., False, False, False],\n",
       "        [False, False, False, ..., False, False, False],\n",
       "        [False, False, False, ..., False, False, False]], dtype=bool),\n",
       " 'F2': array([[False, False, False, ..., False, False, False],\n",
       "        [False, False, False, ..., False, False, False],\n",
       "        [False, False, False, ..., False, False, False],\n",
       "        ..., \n",
       "        [False, False, False, ..., False, False, False],\n",
       "        [False, False, False, ..., False, False, False],\n",
       "        [False, False, False, ..., False, False, False]], dtype=bool),\n",
       " 'F3': array([[False, False, False, ..., False, False, False],\n",
       "        [False, False, False, ..., False, False, False],\n",
       "        [False, False, False, ..., False, False, False],\n",
       "        ..., \n",
       "        [False, False, False, ..., False, False, False],\n",
       "        [False, False, False, ..., False, False, False],\n",
       "        [False, False, False, ..., False, False, False]], dtype=bool),\n",
       " 'F4': array([[False, False, False, ..., False, False, False],\n",
       "        [False, False, False, ..., False, False, False],\n",
       "        [False, False, False, ..., False, False, False],\n",
       "        ..., \n",
       "        [False, False, False, ..., False, False, False],\n",
       "        [False, False, False, ..., False, False, False],\n",
       "        [False, False, False, ..., False, False, False]], dtype=bool),\n",
       " 'M': array([[False, False, False, ..., False, False, False],\n",
       "        [False, False, False, ..., False, False, False],\n",
       "        [False, False, False, ..., False, False, False],\n",
       "        ..., \n",
       "        [False, False, False, ..., False, False, False],\n",
       "        [False, False, False, ..., False, False, False],\n",
       "        [False, False, False, ..., False, False, False]], dtype=bool),\n",
       " 'OB': array([[False, False, False, ..., False, False, False],\n",
       "        [False, False, False, ..., False, False, False],\n",
       "        [False, False, False, ..., False, False, False],\n",
       "        ..., \n",
       "        [False, False, False, ..., False, False, False],\n",
       "        [False, False, False, ..., False, False, False],\n",
       "        [False, False, False, ..., False, False, False]], dtype=bool),\n",
       " 'OT': array([[False, False, False, ..., False, False, False],\n",
       "        [False, False, False, ..., False, False, False],\n",
       "        [False, False, False, ..., False, False, False],\n",
       "        ..., \n",
       "        [False, False, False, ..., False, False, False],\n",
       "        [False, False, False, ..., False, False, False],\n",
       "        [False, False, False, ..., False, False, False]], dtype=bool)}"
      ]
     },
     "execution_count": 27,
     "metadata": {},
     "output_type": "execute_result"
    }
   ],
   "source": [
    "zones_masks = dict([(k, mask_from_outline(outline_from_polygon(v), shape)) for k, v in zones.items()]) \n",
    "zones_masks"
   ]
  },
  {
   "cell_type": "code",
   "execution_count": 29,
   "metadata": {},
   "outputs": [
    {
     "data": {
      "text/plain": [
       "['F1', 'F2', 'F3', 'F4', 'CL', 'M', 'OB', 'CR', 'OT']"
      ]
     },
     "execution_count": 29,
     "metadata": {},
     "output_type": "execute_result"
    }
   ],
   "source": [
    "zones_order = zones_masks.keys()\n",
    "zones_order"
   ]
  },
  {
   "cell_type": "code",
   "execution_count": 35,
   "metadata": {
    "collapsed": true
   },
   "outputs": [],
   "source": [
    "def arm_entry(results_array, zones_order):\n",
    "    # Arm entries version from 20130829 10:10 am. Doesn't capture extra events anymore. Seems accurate now.\n",
    "    # each list of arm entries contains when a mouse entered the arm\n",
    "    arm_entries = [[], [], [], [], [], [], [], [], []] # the number of lists = the number of zones\n",
    "    for frame in range(len(results_array) - 1): # len(results_array)=9000\n",
    "        # Compare each arm, one by one to the middle\n",
    "        for zone in [4, 6, 7, 8]:  # 4,6,7,8 are the arms\n",
    "            if results_array[\n",
    "                frame, 5] > 0:  # 5 is the middle area. Arm antries can only occur if a mouse was present in the middle.\n",
    "                # Arm entry: If in a given frame there is less of a mouse in an arm than in the middle and in the next frame most of the mouse is in an arm\n",
    "                if results_array[frame, zone] <= results_array[frame, 5] and np.argmax(\n",
    "                        results_array[frame + 1]) == zone:\n",
    "                    arm_entries[zone].append(frame + 1)\n",
    "    tot_arm_entries = dict(zip(zones_order, [len(arm) for arm in arm_entries])) # how many times the mouse entered each arm\n",
    "    return arm_entries, tot_arm_entries"
   ]
  },
  {
   "cell_type": "markdown",
   "metadata": {},
   "source": [
    "arm 4: CL  \n",
    "arm 6: OB  \n",
    "arm 7: CR  \n",
    "arm 8: OT"
   ]
  },
  {
   "cell_type": "code",
   "execution_count": 38,
   "metadata": {
    "collapsed": true
   },
   "outputs": [],
   "source": [
    "arm_entries, tot_arm_entries = arm_entry(results_array, zones_order)"
   ]
  },
  {
   "cell_type": "code",
   "execution_count": 80,
   "metadata": {
    "collapsed": true
   },
   "outputs": [],
   "source": [
    "def turning_preference(arm_entries):\n",
    "    num_left = 0\n",
    "    num_right = 0\n",
    "    num_straight = 0\n",
    "    num_back = 0\n",
    "    \n",
    "    entries = sorted([entry for zones in arm_entries for entry in zones])\n",
    "    arm_entries_tuple = [(entry, zone) for zone, subentries in enumerate(arm_entries) for entry in subentries]\n",
    "    entries_dict = dict(arm_entries_tuple)\n",
    "    \n",
    "    turn_left = [(4, 8), (8, 7), (7, 6), (6, 4)]\n",
    "    turn_right = [(8, 4), (7, 8), (6, 7), (4, 6)]\n",
    "    go_straight = [(4, 7), (7, 4), (6, 8), (8, 6)]\n",
    "    go_back = [(4, 4), (6, 6), (7, 7), (8, 8)]\n",
    "\n",
    "    for i in range(len(entries)-1):\n",
    "        if (entries_dict[entries[i]], entries_dict[entries[i+1]]) in turn_left:\n",
    "            num_left += 1\n",
    "        elif (entries_dict[entries[i]], entries_dict[entries[i+1]]) in turn_right:\n",
    "            num_right += 1\n",
    "        elif (entries_dict[entries[i]], entries_dict[entries[i+1]]) in go_straight:\n",
    "            num_straight += 1\n",
    "        elif (entries_dict[entries[i]], entries_dict[entries[i+1]]) in go_back:\n",
    "            num_back += 1\n",
    "            \n",
    "    return num_left, num_right, num_straight, num_back"
   ]
  },
  {
   "cell_type": "code",
   "execution_count": 81,
   "metadata": {},
   "outputs": [
    {
     "data": {
      "text/plain": [
       "(3, 7, 2, 11)"
      ]
     },
     "execution_count": 81,
     "metadata": {},
     "output_type": "execute_result"
    }
   ],
   "source": [
    "turning_preference(arm_entries)"
   ]
  },
  {
   "cell_type": "code",
   "execution_count": null,
   "metadata": {
    "collapsed": true
   },
   "outputs": [],
   "source": [
    "'''\n",
    "    Time: %T_Inside, %T_Outside, %T_Quadrant, %T_safety, %T_peeking, %T(Active)\n",
    "    Position: Avg(Position in each quadrant), Avg(Manhattan Distance) from safe spot\n",
    "    Velocity: In each region, Region -> Region\n",
    "    Preference of Left turns vs Right turns\n",
    "    Region-> Region frequency\n",
    "    Feature changes with time\n",
    "'''"
   ]
  }
 ],
 "metadata": {
  "kernelspec": {
   "display_name": "Python 2",
   "language": "python",
   "name": "python2"
  },
  "language_info": {
   "codemirror_mode": {
    "name": "ipython",
    "version": 2
   },
   "file_extension": ".py",
   "mimetype": "text/x-python",
   "name": "python",
   "nbconvert_exporter": "python",
   "pygments_lexer": "ipython2",
   "version": "2.7.14"
  }
 },
 "nbformat": 4,
 "nbformat_minor": 2
}
