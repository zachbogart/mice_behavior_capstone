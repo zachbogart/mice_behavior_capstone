{
 "cells": [
  {
   "cell_type": "markdown",
   "metadata": {},
   "source": [
    "## Preliminary EDA "
   ]
  },
  {
   "cell_type": "markdown",
   "metadata": {},
   "source": [
    "- Using preliminary partial data"
   ]
  },
  {
   "cell_type": "code",
   "execution_count": 53,
   "metadata": {},
   "outputs": [],
   "source": [
    "import pandas as pd\n",
    "import matplotlib.pyplot as plt\n",
    "import seaborn as sns"
   ]
  },
  {
   "cell_type": "code",
   "execution_count": 2,
   "metadata": {},
   "outputs": [],
   "source": [
    "# read in the csv from process_data folder\n",
    "mice = pd.read_csv(\"../process_data/aggregate_results_new.csv\")\n"
   ]
  },
  {
   "cell_type": "code",
   "execution_count": 3,
   "metadata": {},
   "outputs": [
    {
     "data": {
      "text/html": [
       "<div>\n",
       "<style scoped>\n",
       "    .dataframe tbody tr th:only-of-type {\n",
       "        vertical-align: middle;\n",
       "    }\n",
       "\n",
       "    .dataframe tbody tr th {\n",
       "        vertical-align: top;\n",
       "    }\n",
       "\n",
       "    .dataframe thead th {\n",
       "        text-align: right;\n",
       "    }\n",
       "</style>\n",
       "<table border=\"1\" class=\"dataframe\">\n",
       "  <thead>\n",
       "    <tr style=\"text-align: right;\">\n",
       "      <th></th>\n",
       "      <th>Unnamed: 0</th>\n",
       "      <th>frac_in_arms_frac_in_closedAndMiddle</th>\n",
       "      <th>frac_in_arms_frac_in_closedArms</th>\n",
       "      <th>frac_in_arms_frac_in_middle</th>\n",
       "      <th>frac_in_arms_frac_in_openArms</th>\n",
       "      <th>frames_in_arms_CL</th>\n",
       "      <th>frames_in_arms_CR</th>\n",
       "      <th>frames_in_arms_M</th>\n",
       "      <th>frames_in_arms_OB</th>\n",
       "      <th>frames_in_arms_OT</th>\n",
       "      <th>...</th>\n",
       "      <th>total_distance_OT</th>\n",
       "      <th>total_smoothed_distance_CL</th>\n",
       "      <th>total_smoothed_distance_CR</th>\n",
       "      <th>total_smoothed_distance_F1</th>\n",
       "      <th>total_smoothed_distance_F2</th>\n",
       "      <th>total_smoothed_distance_F3</th>\n",
       "      <th>total_smoothed_distance_F4</th>\n",
       "      <th>total_smoothed_distance_M</th>\n",
       "      <th>total_smoothed_distance_OB</th>\n",
       "      <th>total_smoothed_distance_OT</th>\n",
       "    </tr>\n",
       "  </thead>\n",
       "  <tbody>\n",
       "    <tr>\n",
       "      <th>0</th>\n",
       "      <td>0</td>\n",
       "      <td>0.433902</td>\n",
       "      <td>0.418157</td>\n",
       "      <td>0.015746</td>\n",
       "      <td>0.196939</td>\n",
       "      <td>7067</td>\n",
       "      <td>680</td>\n",
       "      <td>4</td>\n",
       "      <td>49</td>\n",
       "      <td>205</td>\n",
       "      <td>...</td>\n",
       "      <td>1641.147605</td>\n",
       "      <td>1719.089710</td>\n",
       "      <td>2818.812637</td>\n",
       "      <td>693.708814</td>\n",
       "      <td>951.394362</td>\n",
       "      <td>53.624267</td>\n",
       "      <td>556.384736</td>\n",
       "      <td>4.918801</td>\n",
       "      <td>449.802497</td>\n",
       "      <td>1654.519417</td>\n",
       "    </tr>\n",
       "    <tr>\n",
       "      <th>1</th>\n",
       "      <td>1</td>\n",
       "      <td>0.818833</td>\n",
       "      <td>0.740621</td>\n",
       "      <td>0.078212</td>\n",
       "      <td>0.123710</td>\n",
       "      <td>2319</td>\n",
       "      <td>3693</td>\n",
       "      <td>486</td>\n",
       "      <td>634</td>\n",
       "      <td>514</td>\n",
       "      <td>...</td>\n",
       "      <td>1439.326881</td>\n",
       "      <td>5498.155816</td>\n",
       "      <td>7341.057103</td>\n",
       "      <td>0.000000</td>\n",
       "      <td>0.000000</td>\n",
       "      <td>0.000000</td>\n",
       "      <td>0.056469</td>\n",
       "      <td>773.528824</td>\n",
       "      <td>669.720907</td>\n",
       "      <td>1436.769486</td>\n",
       "    </tr>\n",
       "    <tr>\n",
       "      <th>2</th>\n",
       "      <td>2</td>\n",
       "      <td>0.891195</td>\n",
       "      <td>0.825250</td>\n",
       "      <td>0.065945</td>\n",
       "      <td>0.066963</td>\n",
       "      <td>2465</td>\n",
       "      <td>4343</td>\n",
       "      <td>280</td>\n",
       "      <td>416</td>\n",
       "      <td>140</td>\n",
       "      <td>...</td>\n",
       "      <td>117.779643</td>\n",
       "      <td>3598.565867</td>\n",
       "      <td>4927.241930</td>\n",
       "      <td>0.000000</td>\n",
       "      <td>2.357997</td>\n",
       "      <td>0.000000</td>\n",
       "      <td>0.000000</td>\n",
       "      <td>470.354952</td>\n",
       "      <td>201.386108</td>\n",
       "      <td>118.056637</td>\n",
       "    </tr>\n",
       "    <tr>\n",
       "      <th>3</th>\n",
       "      <td>3</td>\n",
       "      <td>0.750444</td>\n",
       "      <td>0.627953</td>\n",
       "      <td>0.122491</td>\n",
       "      <td>0.202602</td>\n",
       "      <td>1649</td>\n",
       "      <td>2104</td>\n",
       "      <td>762</td>\n",
       "      <td>439</td>\n",
       "      <td>2694</td>\n",
       "      <td>...</td>\n",
       "      <td>1628.239498</td>\n",
       "      <td>3298.054565</td>\n",
       "      <td>4716.975749</td>\n",
       "      <td>0.000000</td>\n",
       "      <td>0.000000</td>\n",
       "      <td>0.000000</td>\n",
       "      <td>0.000000</td>\n",
       "      <td>969.240118</td>\n",
       "      <td>496.735446</td>\n",
       "      <td>1628.297569</td>\n",
       "    </tr>\n",
       "    <tr>\n",
       "      <th>4</th>\n",
       "      <td>4</td>\n",
       "      <td>0.592669</td>\n",
       "      <td>0.542912</td>\n",
       "      <td>0.049758</td>\n",
       "      <td>0.243411</td>\n",
       "      <td>1143</td>\n",
       "      <td>1839</td>\n",
       "      <td>69</td>\n",
       "      <td>928</td>\n",
       "      <td>515</td>\n",
       "      <td>...</td>\n",
       "      <td>759.242984</td>\n",
       "      <td>2255.723244</td>\n",
       "      <td>2967.040729</td>\n",
       "      <td>218.149584</td>\n",
       "      <td>57.564323</td>\n",
       "      <td>0.000000</td>\n",
       "      <td>2.423953</td>\n",
       "      <td>292.024996</td>\n",
       "      <td>974.702956</td>\n",
       "      <td>760.062561</td>\n",
       "    </tr>\n",
       "  </tbody>\n",
       "</table>\n",
       "<p>5 rows × 57 columns</p>\n",
       "</div>"
      ],
      "text/plain": [
       "   Unnamed: 0  frac_in_arms_frac_in_closedAndMiddle  \\\n",
       "0           0                              0.433902   \n",
       "1           1                              0.818833   \n",
       "2           2                              0.891195   \n",
       "3           3                              0.750444   \n",
       "4           4                              0.592669   \n",
       "\n",
       "   frac_in_arms_frac_in_closedArms  frac_in_arms_frac_in_middle  \\\n",
       "0                         0.418157                     0.015746   \n",
       "1                         0.740621                     0.078212   \n",
       "2                         0.825250                     0.065945   \n",
       "3                         0.627953                     0.122491   \n",
       "4                         0.542912                     0.049758   \n",
       "\n",
       "   frac_in_arms_frac_in_openArms  frames_in_arms_CL  frames_in_arms_CR  \\\n",
       "0                       0.196939               7067                680   \n",
       "1                       0.123710               2319               3693   \n",
       "2                       0.066963               2465               4343   \n",
       "3                       0.202602               1649               2104   \n",
       "4                       0.243411               1143               1839   \n",
       "\n",
       "   frames_in_arms_M  frames_in_arms_OB  frames_in_arms_OT  \\\n",
       "0                 4                 49                205   \n",
       "1               486                634                514   \n",
       "2               280                416                140   \n",
       "3               762                439               2694   \n",
       "4                69                928                515   \n",
       "\n",
       "              ...             total_distance_OT  total_smoothed_distance_CL  \\\n",
       "0             ...                   1641.147605                 1719.089710   \n",
       "1             ...                   1439.326881                 5498.155816   \n",
       "2             ...                    117.779643                 3598.565867   \n",
       "3             ...                   1628.239498                 3298.054565   \n",
       "4             ...                    759.242984                 2255.723244   \n",
       "\n",
       "   total_smoothed_distance_CR  total_smoothed_distance_F1  \\\n",
       "0                 2818.812637                  693.708814   \n",
       "1                 7341.057103                    0.000000   \n",
       "2                 4927.241930                    0.000000   \n",
       "3                 4716.975749                    0.000000   \n",
       "4                 2967.040729                  218.149584   \n",
       "\n",
       "   total_smoothed_distance_F2  total_smoothed_distance_F3  \\\n",
       "0                  951.394362                   53.624267   \n",
       "1                    0.000000                    0.000000   \n",
       "2                    2.357997                    0.000000   \n",
       "3                    0.000000                    0.000000   \n",
       "4                   57.564323                    0.000000   \n",
       "\n",
       "   total_smoothed_distance_F4  total_smoothed_distance_M  \\\n",
       "0                  556.384736                   4.918801   \n",
       "1                    0.056469                 773.528824   \n",
       "2                    0.000000                 470.354952   \n",
       "3                    0.000000                 969.240118   \n",
       "4                    2.423953                 292.024996   \n",
       "\n",
       "   total_smoothed_distance_OB  total_smoothed_distance_OT  \n",
       "0                  449.802497                 1654.519417  \n",
       "1                  669.720907                 1436.769486  \n",
       "2                  201.386108                  118.056637  \n",
       "3                  496.735446                 1628.297569  \n",
       "4                  974.702956                  760.062561  \n",
       "\n",
       "[5 rows x 57 columns]"
      ]
     },
     "execution_count": 3,
     "metadata": {},
     "output_type": "execute_result"
    }
   ],
   "source": [
    "mice.head()"
   ]
  },
  {
   "cell_type": "markdown",
   "metadata": {},
   "source": [
    "### Deal with directory names"
   ]
  },
  {
   "cell_type": "code",
   "execution_count": 4,
   "metadata": {},
   "outputs": [
    {
     "data": {
      "text/plain": [
       "0         20121116_153006_EPM_BW_224_F\n",
       "1         20121116_161742_EPM_BW_734_M\n",
       "2     20121121_151056_EPM_BWPOF2_767_F\n",
       "3     20121121_152045_EPM_BWPOF2_770_F\n",
       "4           20121121_154633_EPM_PO_759\n",
       "5         20121121_154633_EPM_PO_759_F\n",
       "6           20121121_155926_EPM_PO_760\n",
       "7         20121121_160958_EPM_PO_758_F\n",
       "8     20121130_163816_EPM_BWPOF1_784_M\n",
       "9     20121207_154246_EPM_BWPOF2_799_M\n",
       "10    20121217_165902_EPM_BWPOF1_823_F\n",
       "11    20121217_171649_EPM_BWPOF1_824_M\n",
       "Name: outer_directory, dtype: object"
      ]
     },
     "execution_count": 4,
     "metadata": {},
     "output_type": "execute_result"
    }
   ],
   "source": [
    "mice['outer_directory'].head(12)"
   ]
  },
  {
   "cell_type": "code",
   "execution_count": 5,
   "metadata": {},
   "outputs": [],
   "source": [
    "#split up folder name into separate fields and join to mice df\n",
    "folder_name = mice[\"outer_directory\"].str.split(\"_\", n = 5, expand = True) \n",
    "# TODO formatting some of the column types\n",
    "mice[\"date\"] = folder_name[0]\n",
    "mice[\"time\"] = folder_name[1]\n",
    "# ignore column 2, just \"EPM\" string\n",
    "mice[\"strain\"] = folder_name[3]\n",
    "mice[\"mouse_id\"] = folder_name[4]\n",
    "mice[\"sex\"] = folder_name[5]\n",
    "\n",
    "# remove old folder string column\n",
    "mice.drop(columns=[\"outer_directory\"], inplace=True)\n",
    "\n",
    "# reorder columns to be at the front\n",
    "column_order = mice.columns.tolist()\n",
    "column_order = column_order[-5:] + column_order[:-5]\n",
    "mice = mice[column_order]"
   ]
  },
  {
   "cell_type": "code",
   "execution_count": 6,
   "metadata": {},
   "outputs": [
    {
     "data": {
      "text/html": [
       "<div>\n",
       "<style scoped>\n",
       "    .dataframe tbody tr th:only-of-type {\n",
       "        vertical-align: middle;\n",
       "    }\n",
       "\n",
       "    .dataframe tbody tr th {\n",
       "        vertical-align: top;\n",
       "    }\n",
       "\n",
       "    .dataframe thead th {\n",
       "        text-align: right;\n",
       "    }\n",
       "</style>\n",
       "<table border=\"1\" class=\"dataframe\">\n",
       "  <thead>\n",
       "    <tr style=\"text-align: right;\">\n",
       "      <th></th>\n",
       "      <th>date</th>\n",
       "      <th>time</th>\n",
       "      <th>strain</th>\n",
       "      <th>mouse_id</th>\n",
       "      <th>sex</th>\n",
       "      <th>Unnamed: 0</th>\n",
       "      <th>frac_in_arms_frac_in_closedAndMiddle</th>\n",
       "      <th>frac_in_arms_frac_in_closedArms</th>\n",
       "      <th>frac_in_arms_frac_in_middle</th>\n",
       "      <th>frac_in_arms_frac_in_openArms</th>\n",
       "      <th>...</th>\n",
       "      <th>total_distance_OT</th>\n",
       "      <th>total_smoothed_distance_CL</th>\n",
       "      <th>total_smoothed_distance_CR</th>\n",
       "      <th>total_smoothed_distance_F1</th>\n",
       "      <th>total_smoothed_distance_F2</th>\n",
       "      <th>total_smoothed_distance_F3</th>\n",
       "      <th>total_smoothed_distance_F4</th>\n",
       "      <th>total_smoothed_distance_M</th>\n",
       "      <th>total_smoothed_distance_OB</th>\n",
       "      <th>total_smoothed_distance_OT</th>\n",
       "    </tr>\n",
       "  </thead>\n",
       "  <tbody>\n",
       "    <tr>\n",
       "      <th>0</th>\n",
       "      <td>20121116</td>\n",
       "      <td>153006</td>\n",
       "      <td>BW</td>\n",
       "      <td>224</td>\n",
       "      <td>F</td>\n",
       "      <td>0</td>\n",
       "      <td>0.433902</td>\n",
       "      <td>0.418157</td>\n",
       "      <td>0.015746</td>\n",
       "      <td>0.196939</td>\n",
       "      <td>...</td>\n",
       "      <td>1641.147605</td>\n",
       "      <td>1719.089710</td>\n",
       "      <td>2818.812637</td>\n",
       "      <td>693.708814</td>\n",
       "      <td>951.394362</td>\n",
       "      <td>53.624267</td>\n",
       "      <td>556.384736</td>\n",
       "      <td>4.918801</td>\n",
       "      <td>449.802497</td>\n",
       "      <td>1654.519417</td>\n",
       "    </tr>\n",
       "    <tr>\n",
       "      <th>1</th>\n",
       "      <td>20121116</td>\n",
       "      <td>161742</td>\n",
       "      <td>BW</td>\n",
       "      <td>734</td>\n",
       "      <td>M</td>\n",
       "      <td>1</td>\n",
       "      <td>0.818833</td>\n",
       "      <td>0.740621</td>\n",
       "      <td>0.078212</td>\n",
       "      <td>0.123710</td>\n",
       "      <td>...</td>\n",
       "      <td>1439.326881</td>\n",
       "      <td>5498.155816</td>\n",
       "      <td>7341.057103</td>\n",
       "      <td>0.000000</td>\n",
       "      <td>0.000000</td>\n",
       "      <td>0.000000</td>\n",
       "      <td>0.056469</td>\n",
       "      <td>773.528824</td>\n",
       "      <td>669.720907</td>\n",
       "      <td>1436.769486</td>\n",
       "    </tr>\n",
       "    <tr>\n",
       "      <th>2</th>\n",
       "      <td>20121121</td>\n",
       "      <td>151056</td>\n",
       "      <td>BWPOF2</td>\n",
       "      <td>767</td>\n",
       "      <td>F</td>\n",
       "      <td>2</td>\n",
       "      <td>0.891195</td>\n",
       "      <td>0.825250</td>\n",
       "      <td>0.065945</td>\n",
       "      <td>0.066963</td>\n",
       "      <td>...</td>\n",
       "      <td>117.779643</td>\n",
       "      <td>3598.565867</td>\n",
       "      <td>4927.241930</td>\n",
       "      <td>0.000000</td>\n",
       "      <td>2.357997</td>\n",
       "      <td>0.000000</td>\n",
       "      <td>0.000000</td>\n",
       "      <td>470.354952</td>\n",
       "      <td>201.386108</td>\n",
       "      <td>118.056637</td>\n",
       "    </tr>\n",
       "    <tr>\n",
       "      <th>3</th>\n",
       "      <td>20121121</td>\n",
       "      <td>152045</td>\n",
       "      <td>BWPOF2</td>\n",
       "      <td>770</td>\n",
       "      <td>F</td>\n",
       "      <td>3</td>\n",
       "      <td>0.750444</td>\n",
       "      <td>0.627953</td>\n",
       "      <td>0.122491</td>\n",
       "      <td>0.202602</td>\n",
       "      <td>...</td>\n",
       "      <td>1628.239498</td>\n",
       "      <td>3298.054565</td>\n",
       "      <td>4716.975749</td>\n",
       "      <td>0.000000</td>\n",
       "      <td>0.000000</td>\n",
       "      <td>0.000000</td>\n",
       "      <td>0.000000</td>\n",
       "      <td>969.240118</td>\n",
       "      <td>496.735446</td>\n",
       "      <td>1628.297569</td>\n",
       "    </tr>\n",
       "    <tr>\n",
       "      <th>4</th>\n",
       "      <td>20121121</td>\n",
       "      <td>154633</td>\n",
       "      <td>PO</td>\n",
       "      <td>759</td>\n",
       "      <td>None</td>\n",
       "      <td>4</td>\n",
       "      <td>0.592669</td>\n",
       "      <td>0.542912</td>\n",
       "      <td>0.049758</td>\n",
       "      <td>0.243411</td>\n",
       "      <td>...</td>\n",
       "      <td>759.242984</td>\n",
       "      <td>2255.723244</td>\n",
       "      <td>2967.040729</td>\n",
       "      <td>218.149584</td>\n",
       "      <td>57.564323</td>\n",
       "      <td>0.000000</td>\n",
       "      <td>2.423953</td>\n",
       "      <td>292.024996</td>\n",
       "      <td>974.702956</td>\n",
       "      <td>760.062561</td>\n",
       "    </tr>\n",
       "  </tbody>\n",
       "</table>\n",
       "<p>5 rows × 61 columns</p>\n",
       "</div>"
      ],
      "text/plain": [
       "       date    time  strain mouse_id   sex  Unnamed: 0  \\\n",
       "0  20121116  153006      BW      224     F           0   \n",
       "1  20121116  161742      BW      734     M           1   \n",
       "2  20121121  151056  BWPOF2      767     F           2   \n",
       "3  20121121  152045  BWPOF2      770     F           3   \n",
       "4  20121121  154633      PO      759  None           4   \n",
       "\n",
       "   frac_in_arms_frac_in_closedAndMiddle  frac_in_arms_frac_in_closedArms  \\\n",
       "0                              0.433902                         0.418157   \n",
       "1                              0.818833                         0.740621   \n",
       "2                              0.891195                         0.825250   \n",
       "3                              0.750444                         0.627953   \n",
       "4                              0.592669                         0.542912   \n",
       "\n",
       "   frac_in_arms_frac_in_middle  frac_in_arms_frac_in_openArms  \\\n",
       "0                     0.015746                       0.196939   \n",
       "1                     0.078212                       0.123710   \n",
       "2                     0.065945                       0.066963   \n",
       "3                     0.122491                       0.202602   \n",
       "4                     0.049758                       0.243411   \n",
       "\n",
       "              ...              total_distance_OT  total_smoothed_distance_CL  \\\n",
       "0             ...                    1641.147605                 1719.089710   \n",
       "1             ...                    1439.326881                 5498.155816   \n",
       "2             ...                     117.779643                 3598.565867   \n",
       "3             ...                    1628.239498                 3298.054565   \n",
       "4             ...                     759.242984                 2255.723244   \n",
       "\n",
       "   total_smoothed_distance_CR  total_smoothed_distance_F1  \\\n",
       "0                 2818.812637                  693.708814   \n",
       "1                 7341.057103                    0.000000   \n",
       "2                 4927.241930                    0.000000   \n",
       "3                 4716.975749                    0.000000   \n",
       "4                 2967.040729                  218.149584   \n",
       "\n",
       "   total_smoothed_distance_F2 total_smoothed_distance_F3  \\\n",
       "0                  951.394362                  53.624267   \n",
       "1                    0.000000                   0.000000   \n",
       "2                    2.357997                   0.000000   \n",
       "3                    0.000000                   0.000000   \n",
       "4                   57.564323                   0.000000   \n",
       "\n",
       "   total_smoothed_distance_F4  total_smoothed_distance_M  \\\n",
       "0                  556.384736                   4.918801   \n",
       "1                    0.056469                 773.528824   \n",
       "2                    0.000000                 470.354952   \n",
       "3                    0.000000                 969.240118   \n",
       "4                    2.423953                 292.024996   \n",
       "\n",
       "   total_smoothed_distance_OB  total_smoothed_distance_OT  \n",
       "0                  449.802497                 1654.519417  \n",
       "1                  669.720907                 1436.769486  \n",
       "2                  201.386108                  118.056637  \n",
       "3                  496.735446                 1628.297569  \n",
       "4                  974.702956                  760.062561  \n",
       "\n",
       "[5 rows x 61 columns]"
      ]
     },
     "execution_count": 6,
     "metadata": {},
     "output_type": "execute_result"
    }
   ],
   "source": [
    "mice.head()"
   ]
  },
  {
   "cell_type": "markdown",
   "metadata": {},
   "source": [
    "### Summary Stats"
   ]
  },
  {
   "cell_type": "code",
   "execution_count": 7,
   "metadata": {},
   "outputs": [
    {
     "data": {
      "text/plain": [
       "(72, 61)"
      ]
     },
     "execution_count": 7,
     "metadata": {},
     "output_type": "execute_result"
    }
   ],
   "source": [
    "mice.shape"
   ]
  },
  {
   "cell_type": "code",
   "execution_count": 8,
   "metadata": {
    "scrolled": true
   },
   "outputs": [
    {
     "data": {
      "text/plain": [
       "Index([u'date', u'time', u'strain', u'mouse_id', u'sex', u'Unnamed: 0',\n",
       "       u'frac_in_arms_frac_in_closedAndMiddle',\n",
       "       u'frac_in_arms_frac_in_closedArms', u'frac_in_arms_frac_in_middle',\n",
       "       u'frac_in_arms_frac_in_openArms', u'frames_in_arms_CL',\n",
       "       u'frames_in_arms_CR', u'frames_in_arms_M', u'frames_in_arms_OB',\n",
       "       u'frames_in_arms_OT', u'inner_directory', u'median_speed_CL',\n",
       "       u'median_speed_CR', u'median_speed_F1', u'median_speed_F2',\n",
       "       u'median_speed_F3', u'median_speed_F4', u'median_speed_M',\n",
       "       u'median_speed_OB', u'median_speed_OT', u'smoothed_median_speed_CL',\n",
       "       u'smoothed_median_speed_CR', u'smoothed_median_speed_F1',\n",
       "       u'smoothed_median_speed_F2', u'smoothed_median_speed_F3',\n",
       "       u'smoothed_median_speed_F4', u'smoothed_median_speed_M',\n",
       "       u'smoothed_median_speed_OB', u'smoothed_median_speed_OT',\n",
       "       u'tot_arm_entries_CL', u'tot_arm_entries_CR', u'tot_arm_entries_F1',\n",
       "       u'tot_arm_entries_F2', u'tot_arm_entries_F3', u'tot_arm_entries_F4',\n",
       "       u'tot_arm_entries_M', u'tot_arm_entries_OB', u'tot_arm_entries_OT',\n",
       "       u'total_distance_CL', u'total_distance_CR', u'total_distance_F1',\n",
       "       u'total_distance_F2', u'total_distance_F3', u'total_distance_F4',\n",
       "       u'total_distance_M', u'total_distance_OB', u'total_distance_OT',\n",
       "       u'total_smoothed_distance_CL', u'total_smoothed_distance_CR',\n",
       "       u'total_smoothed_distance_F1', u'total_smoothed_distance_F2',\n",
       "       u'total_smoothed_distance_F3', u'total_smoothed_distance_F4',\n",
       "       u'total_smoothed_distance_M', u'total_smoothed_distance_OB',\n",
       "       u'total_smoothed_distance_OT'],\n",
       "      dtype='object')"
      ]
     },
     "execution_count": 8,
     "metadata": {},
     "output_type": "execute_result"
    }
   ],
   "source": [
    "mice.columns"
   ]
  },
  {
   "cell_type": "code",
   "execution_count": 62,
   "metadata": {},
   "outputs": [
    {
     "data": {
      "text/html": [
       "<div>\n",
       "<style scoped>\n",
       "    .dataframe tbody tr th:only-of-type {\n",
       "        vertical-align: middle;\n",
       "    }\n",
       "\n",
       "    .dataframe tbody tr th {\n",
       "        vertical-align: top;\n",
       "    }\n",
       "\n",
       "    .dataframe thead th {\n",
       "        text-align: right;\n",
       "    }\n",
       "</style>\n",
       "<table border=\"1\" class=\"dataframe\">\n",
       "  <thead>\n",
       "    <tr style=\"text-align: right;\">\n",
       "      <th></th>\n",
       "      <th></th>\n",
       "      <th>frac_in_arms_frac_in_openArms</th>\n",
       "      <th>frac_in_arms_frac_in_closedArms</th>\n",
       "    </tr>\n",
       "    <tr>\n",
       "      <th>strain</th>\n",
       "      <th>sex</th>\n",
       "      <th></th>\n",
       "      <th></th>\n",
       "    </tr>\n",
       "  </thead>\n",
       "  <tbody>\n",
       "    <tr>\n",
       "      <th rowspan=\"2\" valign=\"top\">BW</th>\n",
       "      <th>F</th>\n",
       "      <td>0.098515</td>\n",
       "      <td>0.743280</td>\n",
       "    </tr>\n",
       "    <tr>\n",
       "      <th>M</th>\n",
       "      <td>0.123710</td>\n",
       "      <td>0.740621</td>\n",
       "    </tr>\n",
       "    <tr>\n",
       "      <th rowspan=\"2\" valign=\"top\">BWPOF1</th>\n",
       "      <th>F</th>\n",
       "      <td>0.178368</td>\n",
       "      <td>0.680747</td>\n",
       "    </tr>\n",
       "    <tr>\n",
       "      <th>M</th>\n",
       "      <td>0.080634</td>\n",
       "      <td>0.834762</td>\n",
       "    </tr>\n",
       "    <tr>\n",
       "      <th rowspan=\"2\" valign=\"top\">BWPOF2</th>\n",
       "      <th>F</th>\n",
       "      <td>0.112740</td>\n",
       "      <td>0.780668</td>\n",
       "    </tr>\n",
       "    <tr>\n",
       "      <th>M</th>\n",
       "      <td>0.117361</td>\n",
       "      <td>0.762388</td>\n",
       "    </tr>\n",
       "    <tr>\n",
       "      <th rowspan=\"2\" valign=\"top\">PO</th>\n",
       "      <th>F</th>\n",
       "      <td>0.251411</td>\n",
       "      <td>0.611233</td>\n",
       "    </tr>\n",
       "    <tr>\n",
       "      <th>M</th>\n",
       "      <td>0.114810</td>\n",
       "      <td>0.783119</td>\n",
       "    </tr>\n",
       "  </tbody>\n",
       "</table>\n",
       "</div>"
      ],
      "text/plain": [
       "            frac_in_arms_frac_in_openArms  frac_in_arms_frac_in_closedArms\n",
       "strain sex                                                                \n",
       "BW     F                         0.098515                         0.743280\n",
       "       M                         0.123710                         0.740621\n",
       "BWPOF1 F                         0.178368                         0.680747\n",
       "       M                         0.080634                         0.834762\n",
       "BWPOF2 F                         0.112740                         0.780668\n",
       "       M                         0.117361                         0.762388\n",
       "PO     F                         0.251411                         0.611233\n",
       "       M                         0.114810                         0.783119"
      ]
     },
     "execution_count": 62,
     "metadata": {},
     "output_type": "execute_result"
    }
   ],
   "source": [
    "# open and closed arms across sex and strain\n",
    "mice.groupby(['strain', 'sex'])['frac_in_arms_frac_in_openArms', 'frac_in_arms_frac_in_closedArms'].mean()"
   ]
  },
  {
   "cell_type": "markdown",
   "metadata": {},
   "source": [
    "#### Fraction in Arms"
   ]
  },
  {
   "cell_type": "markdown",
   "metadata": {},
   "source": [
    "g = sns.factorplot(\"strain\", \"frac_in_arms_frac_in_openArms\", data=mice, kind=\"box\")\n",
    "g.set_axis_labels(\"Strain\", \"Fraction in Open Arms\");"
   ]
  },
  {
   "cell_type": "code",
   "execution_count": 19,
   "metadata": {},
   "outputs": [
    {
     "data": {
      "image/png": "[encoded data removed]",
      "text/plain": [
       "<matplotlib.figure.Figure at 0x1a23be2390>"
      ]
     },
     "metadata": {},
     "output_type": "display_data"
    }
   ],
   "source": [
    "p = sns.factorplot(\"strain\", \"frac_in_arms_frac_in_openArms\", 'sex', data=mice, kind=\"box\")\n",
    "p.set_axis_labels(\"Strain\", \"Fraction in Open Arms\");"
   ]
  },
  {
   "cell_type": "code",
   "execution_count": 20,
   "metadata": {},
   "outputs": [
    {
     "data": {
      "image/png": "[encoded data removed]",
      "text/plain": [
       "<matplotlib.figure.Figure at 0x1a23db8d10>"
      ]
     },
     "metadata": {},
     "output_type": "display_data"
    }
   ],
   "source": [
    "p = sns.factorplot(\"strain\", \"frac_in_arms_frac_in_closedArms\", data=mice, kind=\"box\")\n",
    "p.set_axis_labels(\"Strain\", \"Fraction in Closed Arms\");"
   ]
  },
  {
   "cell_type": "code",
   "execution_count": 63,
   "metadata": {},
   "outputs": [
    {
     "data": {
      "image/png": "[encoded data removed]",
      "text/plain": [
       "<matplotlib.figure.Figure at 0x1a23750710>"
      ]
     },
     "metadata": {},
     "output_type": "display_data"
    }
   ],
   "source": [
    "p = sns.factorplot(\"strain\", \"frac_in_arms_frac_in_closedArms\", \"sex\", data=mice, kind=\"box\")\n",
    "p.set_axis_labels(\"Strain\", \"Fraction in Closed Arms\");"
   ]
  },
  {
   "cell_type": "markdown",
   "metadata": {},
   "source": [
    "### Median Speeds Distribution Plots by Zone and Strain"
   ]
  },
  {
   "cell_type": "code",
   "execution_count": 74,
   "metadata": {
    "scrolled": false
   },
   "outputs": [
    {
     "data": {
      "image/png": "[encoded data removed]",
      "text/plain": [
       "<matplotlib.figure.Figure at 0x1a254fb750>"
      ]
     },
     "metadata": {},
     "output_type": "display_data"
    }
   ],
   "source": [
    "Median_Speeds = mice[['sex', 'strain','median_speed_CL','median_speed_CR', 'median_speed_F1', 'median_speed_F2', 'median_speed_F3', 'median_speed_F4', \n",
    "                     'median_speed_M','median_speed_OB', 'median_speed_OT']]\n",
    "med_speeds = pd.melt(Median_Speeds, id_vars = ['sex', 'strain'], var_name = 'Median_Speeds')\n",
    "med_speeds['zone']= med_speeds.Median_Speeds.apply(lambda x: str(x).split('_')[2])\n",
    "\n",
    "\n",
    "med_speeds2 = med_speeds[med_speeds.value < 150]\n",
    "g = sns.FacetGrid(med_speeds2, col=\"zone\", col_wrap=3)\n",
    "g.map(sns.boxplot, \"strain\", \"value\");"
   ]
  },
  {
   "cell_type": "code",
   "execution_count": 75,
   "metadata": {
    "scrolled": false
   },
   "outputs": [
    {
     "data": {
      "image/png": "[encoded data removed]",
      "text/plain": [
       "<matplotlib.figure.Figure at 0x1081ca990>"
      ]
     },
     "metadata": {},
     "output_type": "display_data"
    }
   ],
   "source": [
    "Smoothed_Median_Speeds = mice[['sex', 'strain','smoothed_median_speed_CL','smoothed_median_speed_CR', 'smoothed_median_speed_F1',\n",
    "                      'smoothed_median_speed_F2', 'smoothed_median_speed_F3', 'smoothed_median_speed_F4', \n",
    "                     'smoothed_median_speed_M','smoothed_median_speed_OB', 'smoothed_median_speed_OT']]\n",
    "sm_med_speeds = pd.melt(Smoothed_Median_Speeds, id_vars = ['sex', 'strain'], var_name = 'Smoothed_med_Speeds')\n",
    "sm_med_speeds['zone']= sm_med_speeds.Smoothed_med_Speeds.apply(lambda x: str(x).split('_')[3])\n",
    "\n",
    "sm_med_speeds2 = sm_med_speeds[sm_med_speeds.value < 500]\n",
    "g = sns.FacetGrid(sm_med_speeds2, col=\"zone\", col_wrap=3)\n",
    "g.map(sns.boxplot, \"strain\", \"value\");"
   ]
  },
  {
   "cell_type": "code",
   "execution_count": null,
   "metadata": {},
   "outputs": [],
   "source": []
  }
 ],
 "metadata": {
  "kernelspec": {
   "display_name": "Python 2",
   "language": "python",
   "name": "python2"
  },
  "language_info": {
   "codemirror_mode": {
    "name": "ipython",
    "version": 2
   },
   "file_extension": ".py",
   "mimetype": "text/x-python",
   "name": "python",
   "nbconvert_exporter": "python",
   "pygments_lexer": "ipython2",
   "version": "2.7.14"
  }
 },
 "nbformat": 4,
 "nbformat_minor": 2
}
