{
 "cells": [
  {
   "cell_type": "code",
   "execution_count": 1,
   "metadata": {},
   "outputs": [],
   "source": [
    "import seaborn as sns\n",
    "import matplotlib.pyplot as plt\n",
    "import pandas as pd \n",
    "import numpy as np"
   ]
  },
  {
   "cell_type": "code",
   "execution_count": 2,
   "metadata": {},
   "outputs": [],
   "source": [
    "df = pd.read_csv('all_the_data.csv')"
   ]
  },
  {
   "cell_type": "code",
   "execution_count": 3,
   "metadata": {},
   "outputs": [
    {
     "data": {
      "text/plain": [
       "array(['BW', 'BWPOF2', 'PO', 'BWPOF1'], dtype=object)"
      ]
     },
     "execution_count": 3,
     "metadata": {},
     "output_type": "execute_result"
    }
   ],
   "source": [
    "df.mouse_details_strain.unique()"
   ]
  },
  {
   "cell_type": "code",
   "execution_count": null,
   "metadata": {},
   "outputs": [],
   "source": [
    "#df = df[df.mouse_details_sex.isin(['M', 'F'])]\n",
    "#df = df[df.mouse_details_strain.isin(['BW', 'PO', 'BWPOF1', 'BWPOF2'])]\n",
    "#df['Sex'] = df['mouse_details_sex'].apply(lambda x: 'Male' if x == 'M' else 'Female')"
   ]
  },
  {
   "cell_type": "code",
   "execution_count": null,
   "metadata": {},
   "outputs": [],
   "source": [
    "var = 'mouse_dimensions_mouseLength'\n",
    "df_2 = df[['mouse_details_strain', 'mouse_details_sex', 'Sex', var]]\n",
    "df_2.head(10)"
   ]
  },
  {
   "cell_type": "code",
   "execution_count": null,
   "metadata": {},
   "outputs": [],
   "source": [
    "sns.set(style=\"ticks\")\n",
    "\n",
    "# Initialize the figure with a logarithmic x axis\n",
    "f, ax = plt.subplots(figsize=(7, 6))\n",
    "\n",
    "# Plot the orbital period with horizontal boxes\n",
    "sns.boxplot(x=var, y=\"mouse_details_strain\", hue = 'Sex', data=df,\n",
    "            whis=\"range\", palette=\"vlag\")\n",
    "\n",
    "# Add in points to show each observation\n",
    "sns.swarmplot(x=var, y=\"mouse_details_strain\", hue = 'Sex', data=df,\n",
    "              size=4, color=\".3\", dodge = True, linewidth=0)\n",
    "\n",
    "# Tweak the visual presentation\n",
    "ax.set_title(\"Mouse Length\")\n",
    "ax.xaxis.grid(True)\n",
    "ax.legend(loc=2)\n",
    "ax.set(ylabel=\"Species\", xlabel = \"Length\")\n",
    "sns.despine(trim=True, left=True)"
   ]
  },
  {
   "cell_type": "code",
   "execution_count": null,
   "metadata": {},
   "outputs": [],
   "source": [
    "sns.set(style=\"ticks\")\n",
    "\n",
    "# Initialize the figure with a logarithmic x axis\n",
    "f, ax = plt.subplots(figsize=(7, 6))\n",
    "\n",
    "# Plot the orbital period with horizontal boxes\n",
    "sns.violinplot(x=var, y=\"mouse_details_strain\", hue = 'Sex', data=df,\n",
    "            whis=\"range\", palette=\"vlag\")\n",
    "\n",
    "# Add in points to show each observation\n",
    "sns.swarmplot(x=var, y=\"mouse_details_strain\", hue = 'Sex', data=df,\n",
    "              size=4, color=\".01\", dodge = True, linewidth=0)\n",
    "\n",
    "# Tweak the visual presentation\n",
    "ax.set_title(\"Mouse Length\")\n",
    "ax.xaxis.grid(True)\n",
    "ax.legend(loc=2)\n",
    "ax.set(ylabel=\"Species\", xlabel = \"Length\")\n",
    "sns.despine(trim=True, left=True)"
   ]
  },
  {
   "cell_type": "code",
   "execution_count": 4,
   "metadata": {},
   "outputs": [],
   "source": [
    "df[df.mouse_dimensions_mouseLength == min(df.mouse_dimensions_mouseLength)]\n",
    "df = df.drop([402])"
   ]
  },
  {
   "cell_type": "code",
   "execution_count": 5,
   "metadata": {},
   "outputs": [],
   "source": [
    "df[df.backtrack_counts_CL == max(df.backtrack_counts_CL)]\n",
    "df = df.drop([725])"
   ]
  },
  {
   "cell_type": "code",
   "execution_count": 6,
   "metadata": {},
   "outputs": [],
   "source": [
    "df[df.velocity_OB_total_average_speed == max(df.velocity_OB_total_average_speed)]\n",
    "df = df.drop([27])"
   ]
  },
  {
   "cell_type": "code",
   "execution_count": 7,
   "metadata": {},
   "outputs": [],
   "source": [
    "df[df.peeking_average_length_CL == max(df.peeking_average_length_CL)]\n",
    "df = df.drop([857])"
   ]
  },
  {
   "cell_type": "code",
   "execution_count": 8,
   "metadata": {},
   "outputs": [],
   "source": [
    "df[df.velocity_OB_total_median_speed_active == max(df.velocity_OB_total_median_speed_active)]\n",
    "df = df.drop([1617])"
   ]
  },
  {
   "cell_type": "code",
   "execution_count": 9,
   "metadata": {},
   "outputs": [],
   "source": [
    "df[df.velocity_OT_down_median_speed_active > max(df.velocity_OT_total_median_speed_active-4)]\n",
    "df = df.drop([7])"
   ]
  },
  {
   "cell_type": "code",
   "execution_count": 12,
   "metadata": {},
   "outputs": [],
   "source": [
    "df.to_csv('all_the_data_rmOutliers.csv', index = False)"
   ]
  },
  {
   "cell_type": "code",
   "execution_count": null,
   "metadata": {},
   "outputs": [],
   "source": [
    "max(df.velocity_OT_total_median_speed_active)"
   ]
  },
  {
   "cell_type": "code",
   "execution_count": null,
   "metadata": {},
   "outputs": [],
   "source": []
  }
 ],
 "metadata": {
  "kernelspec": {
   "display_name": "Python [default]",
   "language": "python",
   "name": "python3"
  },
  "language_info": {
   "codemirror_mode": {
    "name": "ipython",
    "version": 3
   },
   "file_extension": ".py",
   "mimetype": "text/x-python",
   "name": "python",
   "nbconvert_exporter": "python",
   "pygments_lexer": "ipython3",
   "version": "3.5.4"
  }
 },
 "nbformat": 4,
 "nbformat_minor": 2
}
