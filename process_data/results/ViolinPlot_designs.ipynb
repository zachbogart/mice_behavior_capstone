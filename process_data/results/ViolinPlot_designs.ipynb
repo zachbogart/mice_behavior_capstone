{
 "cells": [
  {
   "cell_type": "code",
   "execution_count": 2,
   "metadata": {},
   "outputs": [],
   "source": [
    "import seaborn as sns\n",
    "import matplotlib.pyplot as plt\n",
    "import pandas as pd \n",
    "import numpy as np"
   ]
  },
  {
   "cell_type": "code",
   "execution_count": 3,
   "metadata": {},
   "outputs": [],
   "source": [
    "df = pd.read_csv('all_the_data_rmOutliers.csv')"
   ]
  },
  {
   "cell_type": "code",
   "execution_count": 4,
   "metadata": {},
   "outputs": [
    {
     "data": {
      "text/plain": [
       "array(['BW', 'BWPOF2', 'PO', 'BWPOF1'], dtype=object)"
      ]
     },
     "execution_count": 4,
     "metadata": {},
     "output_type": "execute_result"
    }
   ],
   "source": [
    "df.mouse_details_strain.unique()"
   ]
  },
  {
   "cell_type": "code",
   "execution_count": 5,
   "metadata": {},
   "outputs": [],
   "source": [
    "df = df[df.mouse_details_sex.isin(['M', 'F'])]\n",
    "df = df[df.mouse_details_strain.isin(['BW', 'PO', 'BWPOF1', 'BWPOF2'])]\n",
    "df['Sex'] = df['mouse_details_sex'].apply(lambda x: 'Male' if x == 'M' else 'Female')"
   ]
  },
  {
   "cell_type": "code",
   "execution_count": 7,
   "metadata": {},
   "outputs": [
    {
     "data": {
      "text/html": [
       "<div>\n",
       "<style scoped>\n",
       "    .dataframe tbody tr th:only-of-type {\n",
       "        vertical-align: middle;\n",
       "    }\n",
       "\n",
       "    .dataframe tbody tr th {\n",
       "        vertical-align: top;\n",
       "    }\n",
       "\n",
       "    .dataframe thead th {\n",
       "        text-align: right;\n",
       "    }\n",
       "</style>\n",
       "<table border=\"1\" class=\"dataframe\">\n",
       "  <thead>\n",
       "    <tr style=\"text-align: right;\">\n",
       "      <th></th>\n",
       "      <th>mouse_details_strain</th>\n",
       "      <th>mouse_details_sex</th>\n",
       "      <th>Sex</th>\n",
       "      <th>mouse_dimensions_mouseLength</th>\n",
       "    </tr>\n",
       "  </thead>\n",
       "  <tbody>\n",
       "    <tr>\n",
       "      <th>0</th>\n",
       "      <td>BW</td>\n",
       "      <td>M</td>\n",
       "      <td>Male</td>\n",
       "      <td>7.260598</td>\n",
       "    </tr>\n",
       "    <tr>\n",
       "      <th>1</th>\n",
       "      <td>BW</td>\n",
       "      <td>M</td>\n",
       "      <td>Male</td>\n",
       "      <td>7.118170</td>\n",
       "    </tr>\n",
       "    <tr>\n",
       "      <th>2</th>\n",
       "      <td>BWPOF2</td>\n",
       "      <td>F</td>\n",
       "      <td>Female</td>\n",
       "      <td>7.168398</td>\n",
       "    </tr>\n",
       "    <tr>\n",
       "      <th>3</th>\n",
       "      <td>BWPOF2</td>\n",
       "      <td>F</td>\n",
       "      <td>Female</td>\n",
       "      <td>7.118569</td>\n",
       "    </tr>\n",
       "    <tr>\n",
       "      <th>4</th>\n",
       "      <td>PO</td>\n",
       "      <td>F</td>\n",
       "      <td>Female</td>\n",
       "      <td>6.785503</td>\n",
       "    </tr>\n",
       "    <tr>\n",
       "      <th>5</th>\n",
       "      <td>PO</td>\n",
       "      <td>F</td>\n",
       "      <td>Female</td>\n",
       "      <td>6.252075</td>\n",
       "    </tr>\n",
       "    <tr>\n",
       "      <th>6</th>\n",
       "      <td>PO</td>\n",
       "      <td>F</td>\n",
       "      <td>Female</td>\n",
       "      <td>6.363449</td>\n",
       "    </tr>\n",
       "    <tr>\n",
       "      <th>7</th>\n",
       "      <td>BWPOF2</td>\n",
       "      <td>M</td>\n",
       "      <td>Male</td>\n",
       "      <td>6.713208</td>\n",
       "    </tr>\n",
       "    <tr>\n",
       "      <th>8</th>\n",
       "      <td>BWPOF2</td>\n",
       "      <td>M</td>\n",
       "      <td>Male</td>\n",
       "      <td>6.911091</td>\n",
       "    </tr>\n",
       "    <tr>\n",
       "      <th>9</th>\n",
       "      <td>BWPOF2</td>\n",
       "      <td>M</td>\n",
       "      <td>Male</td>\n",
       "      <td>6.294963</td>\n",
       "    </tr>\n",
       "  </tbody>\n",
       "</table>\n",
       "</div>"
      ],
      "text/plain": [
       "  mouse_details_strain mouse_details_sex     Sex  mouse_dimensions_mouseLength\n",
       "0                   BW                 M    Male                      7.260598\n",
       "1                   BW                 M    Male                      7.118170\n",
       "2               BWPOF2                 F  Female                      7.168398\n",
       "3               BWPOF2                 F  Female                      7.118569\n",
       "4                   PO                 F  Female                      6.785503\n",
       "5                   PO                 F  Female                      6.252075\n",
       "6                   PO                 F  Female                      6.363449\n",
       "7               BWPOF2                 M    Male                      6.713208\n",
       "8               BWPOF2                 M    Male                      6.911091\n",
       "9               BWPOF2                 M    Male                      6.294963"
      ]
     },
     "execution_count": 7,
     "metadata": {},
     "output_type": "execute_result"
    }
   ],
   "source": [
    "var = 'mouse_dimensions_mouseLength'\n",
    "df_2 = df[['mouse_details_strain', 'mouse_details_sex', 'Sex', var]]\n",
    "df_2.head(10)"
   ]
  },
  {
   "cell_type": "code",
   "execution_count": 6,
   "metadata": {},
   "outputs": [],
   "source": [
    "def detect_outlier(data_1):\n",
    "    outliers = []\n",
    "    threshold=3\n",
    "    mean_1 = np.mean(data_1)\n",
    "    std_1 =np.std(data_1)\n",
    "    \n",
    "    \n",
    "    for y in data_1:\n",
    "        z_score= (y - mean_1)/std_1 \n",
    "        if np.abs(z_score) > threshold:\n",
    "            outliers.append(y)\n",
    "    return outliers"
   ]
  },
  {
   "cell_type": "code",
   "execution_count": null,
   "metadata": {},
   "outputs": [],
   "source": [
    "detect_outlier(df[var])"
   ]
  },
  {
   "cell_type": "code",
   "execution_count": null,
   "metadata": {},
   "outputs": [],
   "source": [
    "var = 'mouse_dimensions_mouseLength'\n",
    "sns.set(style=\"ticks\")\n",
    "sns.set_style(\"whitegrid\")\n",
    "\n",
    "df2 = df[df[var] > 3]\n",
    "\n",
    "# Initialize the figure with a logarithmic x axis\n",
    "f, ax = plt.subplots(figsize=(7, 6))\n",
    "\n",
    "# Plot the orbital period with horizontal boxes\n",
    "sns.boxplot(x=var, y=\"mouse_details_strain\", hue = 'Sex', data=df2,\n",
    "            whis=\"range\", palette=\"vlag\", order = ['BW', 'PO', 'BWPOF1', 'BWPOF2'] )\n",
    "\n",
    "# Add in points to show each observation\n",
    "sns.swarmplot(x=var, y=\"mouse_details_strain\", hue = 'Sex', \n",
    "              data=df2[df2.mouse_details_strain.isin(['BW', 'PO', 'BWPOF1'])],\n",
    "              size=3, color=\".3\", dodge = True, linewidth=0, \n",
    "              order = ['BW', 'PO', 'BWPOF1', 'BWPOF2'])\n",
    "\n",
    "# Add in points to show each observation\n",
    "sns.swarmplot(x=var, y=\"mouse_details_strain\", hue = 'Sex', \n",
    "              data=df2[df2.mouse_details_strain.isin(['BWPOF2'])],\n",
    "              size=1, color=\".3\", dodge = True, linewidth=0, \n",
    "              order = ['BW', 'PO', 'BWPOF1', 'BWPOF2'])\n",
    "\n",
    "# Tweak the visual presentation\n",
    "ax.set_title(\"Mouse Length\")\n",
    "ax.xaxis.grid(True)\n",
    "ax.legend(loc=2)\n",
    "ax.set(ylabel=\"Species\", xlabel = \"Length (cm)\")\n",
    "#ax.ylim(min(df[var], max(df[var])))\n",
    "sns.despine()\n",
    "f.savefig(\"PosterPlots/\"+ var + \".pdf\")"
   ]
  },
  {
   "cell_type": "code",
   "execution_count": null,
   "metadata": {},
   "outputs": [],
   "source": [
    "var = \"turning_preferences_fraction_straight\"\n",
    "sns.set(style=\"ticks\")\n",
    "sns.set_style(\"whitegrid\")\n",
    "\n",
    "# Initialize the figure with a logarithmic x axis\n",
    "f, ax = plt.subplots(figsize=(7, 6))\n",
    "\n",
    "# Plot the orbital period with horizontal boxes\n",
    "sns.boxplot(x=var, y=\"mouse_details_strain\", hue = 'Sex', data=df,\n",
    "               order = ['BW', 'PO','BWPOF1', 'BWPOF2'],\n",
    "               whis=\"range\", palette=\"vlag\")#, inner = None)\n",
    "\n",
    "# Add in points to show each observation\n",
    "sns.swarmplot(x=var, y=\"mouse_details_strain\", hue = 'Sex', \n",
    "              data=df[df.mouse_details_strain.isin(['BW', 'PO', 'BWPOF1'])],\n",
    "              size=3, color=\".3\", dodge = True, linewidth=0, \n",
    "              order = ['BW', 'PO', 'BWPOF1', 'BWPOF2'])\n",
    "\n",
    "# Add in points to show each observation\n",
    "sns.swarmplot(x=var, y=\"mouse_details_strain\", hue = 'Sex', \n",
    "              data=df[df.mouse_details_strain.isin(['BWPOF2'])],\n",
    "              size=1, color=\".3\", dodge = True, linewidth=0, \n",
    "              order = ['BW', 'PO', 'BWPOF1', 'BWPOF2'])\n",
    "\n",
    "ax.set_title(\"Turn Preference Straight\")\n",
    "ax.xaxis.grid(True)\n",
    "ax.legend(loc=1)\n",
    "ax.set(ylabel=\"Species\", xlabel = \"Fraction of Time\")\n",
    "sns.despine(left = True)\n",
    "f.savefig(\"PosterPlots/\"+ var + \".pdf\")"
   ]
  },
  {
   "cell_type": "code",
   "execution_count": null,
   "metadata": {},
   "outputs": [],
   "source": [
    "var = \"turning_preferences_fraction_left\"\n",
    "\n",
    "sns.set(style=\"ticks\")\n",
    "sns.set_style(\"whitegrid\")\n",
    "\n",
    "# Initialize the figure with a logarithmic x axis\n",
    "f, ax = plt.subplots(figsize=(7, 6))\n",
    "\n",
    "# Plot the orbital period with horizontal boxes\n",
    "sns.boxplot(x=var, y=\"mouse_details_strain\", hue = 'Sex', data=df,\n",
    "               order = ['BW', 'PO','BWPOF1', 'BWPOF2'],\n",
    "               whis=\"range\", palette=\"vlag\")\n",
    "\n",
    "# Add in points to show each observation\n",
    "sns.swarmplot(x=var, y=\"mouse_details_strain\", hue = 'Sex', \n",
    "              data=df[df.mouse_details_strain.isin(['BW', 'PO', 'BWPOF1'])],\n",
    "              size=3, color=\".3\", dodge = True, linewidth=0, \n",
    "              order = ['BW', 'PO', 'BWPOF1', 'BWPOF2'])\n",
    "\n",
    "# Add in points to show each observation\n",
    "sns.swarmplot(x=var, y=\"mouse_details_strain\", hue = 'Sex', \n",
    "              data=df[df.mouse_details_strain.isin(['BWPOF2'])],\n",
    "              size=1, color=\".3\", dodge = True, linewidth=0, \n",
    "              order = ['BW', 'PO', 'BWPOF1', 'BWPOF2'])\n",
    "\n",
    "ax.set_title(\"Turn Preference Left\")\n",
    "ax.xaxis.grid(True)\n",
    "ax.legend(loc=1)\n",
    "ax.set(ylabel=\"Species\", xlabel = \"Fraction of Time\")\n",
    "sns.despine(left = True)\n",
    "f.savefig(\"PosterPlots/\"+ var + \".pdf\")"
   ]
  },
  {
   "cell_type": "code",
   "execution_count": null,
   "metadata": {},
   "outputs": [],
   "source": [
    "var = \"safety_fraction_closed_arms\"\n",
    "\n",
    "sns.set(style=\"ticks\")\n",
    "sns.set_style(\"whitegrid\")\n",
    "\n",
    "# Initialize the figure with a logarithmic x axis\n",
    "f, ax = plt.subplots(figsize=(7, 6))\n",
    "\n",
    "# Plot the orbital period with horizontal boxes\n",
    "sns.boxplot(x=var, y=\"mouse_details_strain\", hue = 'Sex', data=df,\n",
    "               order = ['BW', 'PO','BWPOF1', 'BWPOF2'],\n",
    "               whis=\"range\", palette=\"vlag\")\n",
    "\n",
    "# Add in points to show each observation\n",
    "sns.swarmplot(x=var, y=\"mouse_details_strain\", hue = 'Sex', \n",
    "              data=df[df.mouse_details_strain.isin(['BW', 'PO', 'BWPOF1'])],\n",
    "              size=3, color=\".3\", dodge = True, linewidth=0, \n",
    "              order = ['BW', 'PO', 'BWPOF1', 'BWPOF2'])\n",
    "\n",
    "# Add in points to show each observation\n",
    "sns.swarmplot(x=var, y=\"mouse_details_strain\", hue = 'Sex', \n",
    "              data=df[df.mouse_details_strain.isin(['BWPOF2'])],\n",
    "              size=1, color=\".3\", dodge = True, linewidth=0, \n",
    "              order = ['BW', 'PO', 'BWPOF1', 'BWPOF2'])\n",
    "\n",
    "ax.set_title(\"Fration of Time Spent in Safety\")\n",
    "ax.xaxis.grid(True)\n",
    "ax.legend(loc=1)\n",
    "ax.set(ylabel=\"Species\", xlabel = \"Fraction of Time\")\n",
    "sns.despine(left = True)\n",
    "f.savefig(\"PosterPlots/\"+ var + \".pdf\")"
   ]
  },
  {
   "cell_type": "code",
   "execution_count": null,
   "metadata": {},
   "outputs": [],
   "source": [
    "var = \"fraction_in_arms_closed\"\n",
    "\n",
    "sns.set(style=\"ticks\")\n",
    "sns.set_style(\"whitegrid\")\n",
    "\n",
    "# Initialize the figure with a logarithmic x axis\n",
    "f, ax = plt.subplots(figsize=(7, 6))\n",
    "\n",
    "# Plot the orbital period with horizontal boxes\n",
    "sns.boxplot(x=var, y=\"mouse_details_strain\", hue = 'Sex', data=df,\n",
    "               order = ['BW', 'PO','BWPOF1', 'BWPOF2'],\n",
    "               whis=\"range\", palette=\"vlag\")\n",
    "\n",
    "# Add in points to show each observation\n",
    "sns.swarmplot(x=var, y=\"mouse_details_strain\", hue = 'Sex', \n",
    "              data=df[df.mouse_details_strain.isin(['BW', 'PO', 'BWPOF1'])],\n",
    "              size=3, color=\".3\", dodge = True, linewidth=0, \n",
    "              order = ['BW', 'PO', 'BWPOF1', 'BWPOF2'])\n",
    "\n",
    "# Add in points to show each observation\n",
    "sns.swarmplot(x=var, y=\"mouse_details_strain\", hue = 'Sex', \n",
    "              data=df[df.mouse_details_strain.isin(['BWPOF2'])],\n",
    "              size=1, color=\".3\", dodge = True, linewidth=0, \n",
    "              order = ['BW', 'PO', 'BWPOF1', 'BWPOF2'])\n",
    "\n",
    "ax.set_title(\"Fration in Closed Arms\")\n",
    "ax.xaxis.grid(True)\n",
    "ax.legend(loc=2)\n",
    "ax.set(ylabel=\"Species\", xlabel = \"Fraction of Time\")\n",
    "sns.despine(left = True)\n",
    "f.savefig(\"PosterPlots/\"+ var + \".pdf\")"
   ]
  },
  {
   "cell_type": "code",
   "execution_count": null,
   "metadata": {},
   "outputs": [],
   "source": [
    "var = \"velocity_closed_towards_outside_average_speed_active\"\n",
    "\n",
    "sns.set(style=\"ticks\")\n",
    "sns.set_style(\"whitegrid\")\n",
    "\n",
    "# Initialize the figure with a logarithmic x axis\n",
    "f, ax = plt.subplots(figsize=(7, 6))\n",
    "\n",
    "# Plot the orbital period with horizontal boxes\n",
    "sns.boxplot(x=var, y=\"mouse_details_strain\", hue = 'Sex', data=df,\n",
    "               order = ['BW', 'PO','BWPOF1', 'BWPOF2'],\n",
    "               whis=\"range\", palette=\"vlag\")\n",
    "\n",
    "# Add in points to show each observation\n",
    "sns.swarmplot(x=var, y=\"mouse_details_strain\", hue = 'Sex', \n",
    "              data=df[df.mouse_details_strain.isin(['BW', 'PO', 'BWPOF1'])],\n",
    "              size=3, color=\".3\", dodge = True, linewidth=0, \n",
    "              order = ['BW', 'PO', 'BWPOF1', 'BWPOF2'])\n",
    "\n",
    "# Add in points to show each observation\n",
    "sns.swarmplot(x=var, y=\"mouse_details_strain\", hue = 'Sex', \n",
    "              data=df[df.mouse_details_strain.isin(['BWPOF2'])],\n",
    "              size=1, color=\".3\", dodge = True, linewidth=0, \n",
    "              order = ['BW', 'PO', 'BWPOF1', 'BWPOF2'])\n",
    "\n",
    "ax.set_title(var)\n",
    "ax.xaxis.grid(True)\n",
    "ax.legend(loc=1)\n",
    "ax.set(ylabel=\"Species\", xlabel = \"Velocity\")\n",
    "sns.despine()\n",
    "f.savefig(\"PosterPlots/\"+ var + \".pdf\")"
   ]
  },
  {
   "cell_type": "markdown",
   "metadata": {},
   "source": [
    "df[df.mouse_dimensions_mouseLength == min(df.mouse_dimensions_mouseLength)] df = df.drop([402])"
   ]
  },
  {
   "cell_type": "markdown",
   "metadata": {},
   "source": [
    "df[df.backtrack_counts_CL == max(df.backtrack_counts_CL)]\n",
    "df = df.drop([725])"
   ]
  },
  {
   "cell_type": "markdown",
   "metadata": {},
   "source": [
    "df[df.velocity_OB_total_average_speed == max(df.velocity_OB_total_average_speed)]\n",
    "df = df.drop([27])"
   ]
  },
  {
   "cell_type": "markdown",
   "metadata": {},
   "source": [
    "df[df.peeking_average_length_CL == max(df.peeking_average_length_CL)]\n",
    "df = df.drop([857])"
   ]
  },
  {
   "cell_type": "markdown",
   "metadata": {},
   "source": [
    "df[df.velocity_OB_total_median_speed_active == max(df.velocity_OB_total_median_speed_active)]\n",
    "df = df.drop([1617])"
   ]
  },
  {
   "cell_type": "markdown",
   "metadata": {},
   "source": [
    "df[df.velocity_OT_down_median_speed_active > max(df.velocity_OT_total_median_speed_active-4)]\n",
    "df = df.drop([7])"
   ]
  },
  {
   "cell_type": "markdown",
   "metadata": {},
   "source": [
    "df.to_csv('all_the_data_rmOutliers.csv', index = False)"
   ]
  },
  {
   "cell_type": "markdown",
   "metadata": {},
   "source": [
    "max(df.velocity_OT_total_median_speed_active)"
   ]
  },
  {
   "cell_type": "code",
   "execution_count": null,
   "metadata": {},
   "outputs": [],
   "source": [
    "import matplotlib.pyplot as plt\n",
    "import matplotlib.gridspec as gridspec\n",
    "import seaborn as sns\n",
    "import SeabornFig2Grid as sfg\n",
    "\n",
    "\n",
    "from sklearn import preprocessing"
   ]
  },
  {
   "cell_type": "code",
   "execution_count": null,
   "metadata": {},
   "outputs": [],
   "source": []
  },
  {
   "cell_type": "code",
   "execution_count": null,
   "metadata": {
    "scrolled": false
   },
   "outputs": [],
   "source": [
    "columns = pd.DataFrame(df.columns)\n",
    "\n",
    "col_to_ignore = ['inner_directory',\n",
    "                'mouse_details_EPM',\n",
    "                'mouse_details_date',\n",
    "                'mouse_details_mouseID',\n",
    "                'mouse_details_sex',\n",
    "                'mouse_details_strain',\n",
    "                'mouse_details_time', 'Unnamed: 0']\n",
    "\n",
    "columns = columns[columns.isin(col_to_ignore) == False].dropna()[0]\n",
    "fig, ax = plt.subplots(5,4, figsize=(14,12))\n",
    "ax = ax.flatten()\n",
    "for axes, var in zip(ax, columns[15:35]):\n",
    "    print(var)\n",
    "    # Plot the orbital period with horizontal boxes\n",
    "    sns.boxplot(x=var, y=\"mouse_details_strain\", hue = 'Sex', data = df,\n",
    "               order = ['BW', 'PO'], whis=\"range\", palette=\"vlag\", ax = axes)\n",
    "\n",
    "    # Add in points to show each observation\n",
    "    sns.swarmplot(x=var, y=\"mouse_details_strain\", hue = 'Sex', data = df,\n",
    "                  size=3, color=\".3\", dodge = True, linewidth=0, \n",
    "                  order = ['BW', 'PO'], ax = axes)\n",
    "    \n",
    "    axes.xaxis.grid(True)\n",
    "    axes.legend_.remove()\n",
    "    axes.set(ylabel=\"Species\")\n",
    "    sns.despine()\n",
    "    \n",
    "plt.tight_layout()  \n",
    "plt.show()\n",
    "fig.savefig(\"PosterPlots/\"+ 'Test' + \".pdf\")"
   ]
  },
  {
   "cell_type": "code",
   "execution_count": null,
   "metadata": {},
   "outputs": [],
   "source": []
  },
  {
   "cell_type": "code",
   "execution_count": 21,
   "metadata": {},
   "outputs": [
    {
     "data": {
      "image/png": "[encoded data removed]",
      "text/plain": [
       "<matplotlib.figure.Figure at 0x11054a0d0>"
      ]
     },
     "metadata": {},
     "output_type": "display_data"
    }
   ],
   "source": [
    "var = 'fraction_in_arms_closed_and_middle'\n",
    "sns.set(style=\"ticks\")\n",
    "sns.set_style(\"whitegrid\")\n",
    "\n",
    "# Initialize the figure with a logarithmic x axis\n",
    "f, ax = plt.subplots(figsize=(7, 6))\n",
    "\n",
    "# Plot the orbital period with horizontal boxes\n",
    "sns.boxplot(x=var, y=\"mouse_details_strain\", hue = 'Sex', data=df,\n",
    "               order = ['BW', 'PO','BWPOF1', 'BWPOF2'],\n",
    "               whis=\"range\", palette=\"vlag\")\n",
    "\n",
    "# Add in points to show each observation\n",
    "sns.swarmplot(x=var, y=\"mouse_details_strain\", hue = 'Sex', \n",
    "              data=df[df.mouse_details_strain.isin(['BW', 'PO', 'BWPOF1'])],\n",
    "              size=3, color=\".3\", dodge = True, linewidth=0, \n",
    "              order = ['BW', 'PO', 'BWPOF1', 'BWPOF2'])\n",
    "\n",
    "# Add in points to show each observation\n",
    "sns.swarmplot(x=var, y=\"mouse_details_strain\", hue = 'Sex', \n",
    "              data=df[df.mouse_details_strain.isin(['BWPOF2'])],\n",
    "              size=1, color=\".3\", dodge = True, linewidth=0, \n",
    "              order = ['BW', 'PO', 'BWPOF1', 'BWPOF2'])\n",
    "\n",
    "ax.set_title('Fraction of Time Spent in Closed and Middle Arms')\n",
    "ax.xaxis.grid(True)\n",
    "ax.legend(loc=2)\n",
    "ax.set(ylabel=\"Species\", xlabel = \"Fraction of Time\")\n",
    "sns.despine()\n",
    "f.savefig(\"PosterPlots/\"+ var + \".pdf\")"
   ]
  },
  {
   "cell_type": "code",
   "execution_count": 25,
   "metadata": {},
   "outputs": [
    {
     "data": {
      "image/png": "[encoded data removed]",
      "text/plain": [
       "<matplotlib.figure.Figure at 0x1a14ea1b90>"
      ]
     },
     "metadata": {},
     "output_type": "display_data"
    }
   ],
   "source": [
    "var = 'fraction_in_arms_open'\n",
    "sns.set(style=\"ticks\")\n",
    "sns.set_style(\"whitegrid\")\n",
    "\n",
    "# Initialize the figure with a logarithmic x axis\n",
    "f, ax = plt.subplots(figsize=(7, 6))\n",
    "\n",
    "# Plot the orbital period with horizontal boxes\n",
    "sns.boxplot(x=var, y=\"mouse_details_strain\", hue = 'Sex', data=df,\n",
    "               order = ['BW', 'PO','BWPOF1', 'BWPOF2'],\n",
    "               whis=\"range\", palette=\"vlag\")\n",
    "\n",
    "# Add in points to show each observation\n",
    "sns.swarmplot(x=var, y=\"mouse_details_strain\", hue = 'Sex', \n",
    "              data=df[df.mouse_details_strain.isin(['BW', 'PO', 'BWPOF1'])],\n",
    "              size=3, color=\".3\", dodge = True, linewidth=0, \n",
    "              order = ['BW', 'PO', 'BWPOF1', 'BWPOF2'])\n",
    "\n",
    "# Add in points to show each observation\n",
    "sns.swarmplot(x=var, y=\"mouse_details_strain\", hue = 'Sex', \n",
    "              data=df[df.mouse_details_strain.isin(['BWPOF2'])],\n",
    "              size=1.1, color=\".3\", dodge = True, linewidth=0, \n",
    "              order = ['BW', 'PO', 'BWPOF1', 'BWPOF2'])\n",
    "\n",
    "ax.set_title('Fraction of Time Spent in Open Arms')\n",
    "ax.xaxis.grid(True)\n",
    "ax.legend(loc=1)\n",
    "ax.set(ylabel=\"Species\", xlabel = \"Fraction of Time\")\n",
    "sns.despine()\n",
    "f.savefig(\"PosterPlots/\"+ var + \".pdf\")"
   ]
  },
  {
   "cell_type": "code",
   "execution_count": 36,
   "metadata": {},
   "outputs": [
    {
     "data": {
      "text/html": [
       "<div>\n",
       "<style scoped>\n",
       "    .dataframe tbody tr th:only-of-type {\n",
       "        vertical-align: middle;\n",
       "    }\n",
       "\n",
       "    .dataframe tbody tr th {\n",
       "        vertical-align: top;\n",
       "    }\n",
       "\n",
       "    .dataframe thead th {\n",
       "        text-align: right;\n",
       "    }\n",
       "</style>\n",
       "<table border=\"1\" class=\"dataframe\">\n",
       "  <thead>\n",
       "    <tr style=\"text-align: right;\">\n",
       "      <th></th>\n",
       "      <th>mouse_details_strain</th>\n",
       "      <th>Sex</th>\n",
       "      <th>count</th>\n",
       "    </tr>\n",
       "  </thead>\n",
       "  <tbody>\n",
       "    <tr>\n",
       "      <th>0</th>\n",
       "      <td>BW</td>\n",
       "      <td>Female</td>\n",
       "      <td>34</td>\n",
       "    </tr>\n",
       "    <tr>\n",
       "      <th>1</th>\n",
       "      <td>BW</td>\n",
       "      <td>Male</td>\n",
       "      <td>33</td>\n",
       "    </tr>\n",
       "    <tr>\n",
       "      <th>2</th>\n",
       "      <td>BWPOF1</td>\n",
       "      <td>Female</td>\n",
       "      <td>24</td>\n",
       "    </tr>\n",
       "    <tr>\n",
       "      <th>3</th>\n",
       "      <td>BWPOF1</td>\n",
       "      <td>Male</td>\n",
       "      <td>24</td>\n",
       "    </tr>\n",
       "    <tr>\n",
       "      <th>4</th>\n",
       "      <td>BWPOF2</td>\n",
       "      <td>Female</td>\n",
       "      <td>770</td>\n",
       "    </tr>\n",
       "    <tr>\n",
       "      <th>5</th>\n",
       "      <td>BWPOF2</td>\n",
       "      <td>Male</td>\n",
       "      <td>808</td>\n",
       "    </tr>\n",
       "    <tr>\n",
       "      <th>6</th>\n",
       "      <td>PO</td>\n",
       "      <td>Female</td>\n",
       "      <td>34</td>\n",
       "    </tr>\n",
       "    <tr>\n",
       "      <th>7</th>\n",
       "      <td>PO</td>\n",
       "      <td>Male</td>\n",
       "      <td>34</td>\n",
       "    </tr>\n",
       "  </tbody>\n",
       "</table>\n",
       "</div>"
      ],
      "text/plain": [
       "  mouse_details_strain     Sex  count\n",
       "0                   BW  Female     34\n",
       "1                   BW    Male     33\n",
       "2               BWPOF1  Female     24\n",
       "3               BWPOF1    Male     24\n",
       "4               BWPOF2  Female    770\n",
       "5               BWPOF2    Male    808\n",
       "6                   PO  Female     34\n",
       "7                   PO    Male     34"
      ]
     },
     "execution_count": 36,
     "metadata": {},
     "output_type": "execute_result"
    }
   ],
   "source": [
    "df['count'] = 1 \n",
    "gen_sp_count = df[[\"mouse_details_strain\", 'Sex', 'count']].groupby([\"mouse_details_strain\", 'Sex'], as_index=False).agg('count')\n",
    "#gen_sp_count[\"mouse_details_strain\"] = gen_sp_count.index\n",
    "gen_sp_count"
   ]
  },
  {
   "cell_type": "code",
   "execution_count": 51,
   "metadata": {},
   "outputs": [
    {
     "data": {
      "image/png": "[encoded data removed]",
      "text/plain": [
       "<matplotlib.figure.Figure at 0x1106afc10>"
      ]
     },
     "metadata": {},
     "output_type": "display_data"
    }
   ],
   "source": [
    "sns.set(style=\"ticks\")\n",
    "#sns.set_style(\"whitegrid\")\n",
    "\n",
    "# Initialize the figure with a logarithmic x axis\n",
    "f, ax = plt.subplots(figsize=(7, 6))\n",
    "\n",
    "# Plot the orbital period with horizontal boxes\n",
    "sns.barplot(x='count', y=\"mouse_details_strain\", hue = 'Sex', data=gen_sp_count,\n",
    "               order = ['BW', 'PO','BWPOF1', 'BWPOF2'], palette=\"vlag\",errcolor=\".4\", edgecolor=\".4\")\n",
    "\n",
    "ax.set_title('Distribution of Mice by Gender and Strain')\n",
    "ax.xaxis.grid(True)\n",
    "ax.legend(loc=1)\n",
    "ax.set(ylabel=\"Species\", xlabel = \"Count\")\n",
    "sns.despine()\n",
    "f.savefig(\"PosterPlots/\"+ \"Gen_Strain_Count\" + \".pdf\")"
   ]
  },
  {
   "cell_type": "code",
   "execution_count": null,
   "metadata": {},
   "outputs": [],
   "source": []
  }
 ],
 "metadata": {
  "kernelspec": {
   "display_name": "Python 2",
   "language": "python",
   "name": "python2"
  }
 },
 "nbformat": 4,
 "nbformat_minor": 2
}
